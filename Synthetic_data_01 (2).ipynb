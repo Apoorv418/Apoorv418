{
  "nbformat": 4,
  "nbformat_minor": 0,
  "metadata": {
    "colab": {
      "provenance": []
    },
    "kernelspec": {
      "name": "python3",
      "display_name": "Python 3"
    },
    "language_info": {
      "name": "python"
    }
  },
  "cells": [
    {
      "cell_type": "code",
      "execution_count": 3,
      "metadata": {
        "colab": {
          "base_uri": "https://localhost:8080/"
        },
        "id": "NyzObN9AcfwT",
        "outputId": "9fbdaf00-2ec9-4fb2-efd4-9012865088f1"
      },
      "outputs": [
        {
          "output_type": "stream",
          "name": "stdout",
          "text": [
            "Collecting sdv\n",
            "  Downloading sdv-1.12.1-py3-none-any.whl (133 kB)\n",
            "\u001b[2K     \u001b[90m━━━━━━━━━━━━━━━━━━━━━━━━━━━━━━━━━━━━━━━━\u001b[0m \u001b[32m133.5/133.5 kB\u001b[0m \u001b[31m1.7 MB/s\u001b[0m eta \u001b[36m0:00:00\u001b[0m\n",
            "\u001b[?25hCollecting boto3>=1.28 (from sdv)\n",
            "  Downloading boto3-1.34.92-py3-none-any.whl (139 kB)\n",
            "\u001b[2K     \u001b[90m━━━━━━━━━━━━━━━━━━━━━━━━━━━━━━━━━━━━━━━━\u001b[0m \u001b[32m139.3/139.3 kB\u001b[0m \u001b[31m7.5 MB/s\u001b[0m eta \u001b[36m0:00:00\u001b[0m\n",
            "\u001b[?25hCollecting botocore>=1.31 (from sdv)\n",
            "  Downloading botocore-1.34.92-py3-none-any.whl (12.2 MB)\n",
            "\u001b[2K     \u001b[90m━━━━━━━━━━━━━━━━━━━━━━━━━━━━━━━━━━━━━━━━\u001b[0m \u001b[32m12.2/12.2 MB\u001b[0m \u001b[31m33.8 MB/s\u001b[0m eta \u001b[36m0:00:00\u001b[0m\n",
            "\u001b[?25hRequirement already satisfied: cloudpickle>=2.1.0 in /usr/local/lib/python3.10/dist-packages (from sdv) (2.2.1)\n",
            "Requirement already satisfied: graphviz>=0.13.2 in /usr/local/lib/python3.10/dist-packages (from sdv) (0.20.3)\n",
            "Requirement already satisfied: tqdm>=4.29 in /usr/local/lib/python3.10/dist-packages (from sdv) (4.66.2)\n",
            "Collecting copulas>=0.11.0 (from sdv)\n",
            "  Downloading copulas-0.11.0-py3-none-any.whl (51 kB)\n",
            "\u001b[2K     \u001b[90m━━━━━━━━━━━━━━━━━━━━━━━━━━━━━━━━━━━━━━━━\u001b[0m \u001b[32m51.9/51.9 kB\u001b[0m \u001b[31m6.3 MB/s\u001b[0m eta \u001b[36m0:00:00\u001b[0m\n",
            "\u001b[?25hCollecting ctgan>=0.10.0 (from sdv)\n",
            "  Downloading ctgan-0.10.0-py3-none-any.whl (24 kB)\n",
            "Collecting deepecho>=0.6.0 (from sdv)\n",
            "  Downloading deepecho-0.6.0-py3-none-any.whl (27 kB)\n",
            "Collecting rdt>=1.12.0 (from sdv)\n",
            "  Downloading rdt-1.12.0-py3-none-any.whl (63 kB)\n",
            "\u001b[2K     \u001b[90m━━━━━━━━━━━━━━━━━━━━━━━━━━━━━━━━━━━━━━━━\u001b[0m \u001b[32m63.8/63.8 kB\u001b[0m \u001b[31m7.6 MB/s\u001b[0m eta \u001b[36m0:00:00\u001b[0m\n",
            "\u001b[?25hCollecting sdmetrics>=0.14.0 (from sdv)\n",
            "  Downloading sdmetrics-0.14.0-py3-none-any.whl (169 kB)\n",
            "\u001b[2K     \u001b[90m━━━━━━━━━━━━━━━━━━━━━━━━━━━━━━━━━━━━━━━━\u001b[0m \u001b[32m169.9/169.9 kB\u001b[0m \u001b[31m18.9 MB/s\u001b[0m eta \u001b[36m0:00:00\u001b[0m\n",
            "\u001b[?25hRequirement already satisfied: pandas>=1.3.4 in /usr/local/lib/python3.10/dist-packages (from sdv) (2.0.3)\n",
            "Requirement already satisfied: numpy<2,>=1.23.3 in /usr/local/lib/python3.10/dist-packages (from sdv) (1.25.2)\n",
            "Collecting jmespath<2.0.0,>=0.7.1 (from boto3>=1.28->sdv)\n",
            "  Downloading jmespath-1.0.1-py3-none-any.whl (20 kB)\n",
            "Collecting s3transfer<0.11.0,>=0.10.0 (from boto3>=1.28->sdv)\n",
            "  Downloading s3transfer-0.10.1-py3-none-any.whl (82 kB)\n",
            "\u001b[2K     \u001b[90m━━━━━━━━━━━━━━━━━━━━━━━━━━━━━━━━━━━━━━━━\u001b[0m \u001b[32m82.2/82.2 kB\u001b[0m \u001b[31m9.1 MB/s\u001b[0m eta \u001b[36m0:00:00\u001b[0m\n",
            "\u001b[?25hRequirement already satisfied: python-dateutil<3.0.0,>=2.1 in /usr/local/lib/python3.10/dist-packages (from botocore>=1.31->sdv) (2.8.2)\n",
            "Requirement already satisfied: urllib3!=2.2.0,<3,>=1.25.4 in /usr/local/lib/python3.10/dist-packages (from botocore>=1.31->sdv) (2.0.7)\n",
            "Requirement already satisfied: plotly>=5.10.0 in /usr/local/lib/python3.10/dist-packages (from copulas>=0.11.0->sdv) (5.15.0)\n",
            "Requirement already satisfied: scipy>=1.9.2 in /usr/local/lib/python3.10/dist-packages (from copulas>=0.11.0->sdv) (1.11.4)\n",
            "Requirement already satisfied: torch>=1.11.0 in /usr/local/lib/python3.10/dist-packages (from ctgan>=0.10.0->sdv) (2.2.1+cu121)\n",
            "Requirement already satisfied: pytz>=2020.1 in /usr/local/lib/python3.10/dist-packages (from pandas>=1.3.4->sdv) (2023.4)\n",
            "Requirement already satisfied: tzdata>=2022.1 in /usr/local/lib/python3.10/dist-packages (from pandas>=1.3.4->sdv) (2024.1)\n",
            "Collecting Faker>=17 (from rdt>=1.12.0->sdv)\n",
            "  Downloading Faker-24.14.0-py3-none-any.whl (1.8 MB)\n",
            "\u001b[2K     \u001b[90m━━━━━━━━━━━━━━━━━━━━━━━━━━━━━━━━━━━━━━━━\u001b[0m \u001b[32m1.8/1.8 MB\u001b[0m \u001b[31m59.3 MB/s\u001b[0m eta \u001b[36m0:00:00\u001b[0m\n",
            "\u001b[?25hRequirement already satisfied: scikit-learn>=1.1.0 in /usr/local/lib/python3.10/dist-packages (from rdt>=1.12.0->sdv) (1.2.2)\n",
            "Collecting plotly>=5.10.0 (from copulas>=0.11.0->sdv)\n",
            "  Downloading plotly-5.21.0-py3-none-any.whl (15.7 MB)\n",
            "\u001b[2K     \u001b[90m━━━━━━━━━━━━━━━━━━━━━━━━━━━━━━━━━━━━━━━━\u001b[0m \u001b[32m15.7/15.7 MB\u001b[0m \u001b[31m36.1 MB/s\u001b[0m eta \u001b[36m0:00:00\u001b[0m\n",
            "\u001b[?25hRequirement already satisfied: tenacity>=6.2.0 in /usr/local/lib/python3.10/dist-packages (from plotly>=5.10.0->copulas>=0.11.0->sdv) (8.2.3)\n",
            "Requirement already satisfied: packaging in /usr/local/lib/python3.10/dist-packages (from plotly>=5.10.0->copulas>=0.11.0->sdv) (24.0)\n",
            "Requirement already satisfied: six>=1.5 in /usr/local/lib/python3.10/dist-packages (from python-dateutil<3.0.0,>=2.1->botocore>=1.31->sdv) (1.16.0)\n",
            "Requirement already satisfied: joblib>=1.1.1 in /usr/local/lib/python3.10/dist-packages (from scikit-learn>=1.1.0->rdt>=1.12.0->sdv) (1.4.0)\n",
            "Requirement already satisfied: threadpoolctl>=2.0.0 in /usr/local/lib/python3.10/dist-packages (from scikit-learn>=1.1.0->rdt>=1.12.0->sdv) (3.4.0)\n",
            "Requirement already satisfied: filelock in /usr/local/lib/python3.10/dist-packages (from torch>=1.11.0->ctgan>=0.10.0->sdv) (3.13.4)\n",
            "Requirement already satisfied: typing-extensions>=4.8.0 in /usr/local/lib/python3.10/dist-packages (from torch>=1.11.0->ctgan>=0.10.0->sdv) (4.11.0)\n",
            "Requirement already satisfied: sympy in /usr/local/lib/python3.10/dist-packages (from torch>=1.11.0->ctgan>=0.10.0->sdv) (1.12)\n",
            "Requirement already satisfied: networkx in /usr/local/lib/python3.10/dist-packages (from torch>=1.11.0->ctgan>=0.10.0->sdv) (3.3)\n",
            "Requirement already satisfied: jinja2 in /usr/local/lib/python3.10/dist-packages (from torch>=1.11.0->ctgan>=0.10.0->sdv) (3.1.3)\n",
            "Requirement already satisfied: fsspec in /usr/local/lib/python3.10/dist-packages (from torch>=1.11.0->ctgan>=0.10.0->sdv) (2023.6.0)\n",
            "Collecting nvidia-cuda-nvrtc-cu12==12.1.105 (from torch>=1.11.0->ctgan>=0.10.0->sdv)\n",
            "  Using cached nvidia_cuda_nvrtc_cu12-12.1.105-py3-none-manylinux1_x86_64.whl (23.7 MB)\n",
            "Collecting nvidia-cuda-runtime-cu12==12.1.105 (from torch>=1.11.0->ctgan>=0.10.0->sdv)\n",
            "  Using cached nvidia_cuda_runtime_cu12-12.1.105-py3-none-manylinux1_x86_64.whl (823 kB)\n",
            "Collecting nvidia-cuda-cupti-cu12==12.1.105 (from torch>=1.11.0->ctgan>=0.10.0->sdv)\n",
            "  Using cached nvidia_cuda_cupti_cu12-12.1.105-py3-none-manylinux1_x86_64.whl (14.1 MB)\n",
            "Collecting nvidia-cudnn-cu12==8.9.2.26 (from torch>=1.11.0->ctgan>=0.10.0->sdv)\n",
            "  Using cached nvidia_cudnn_cu12-8.9.2.26-py3-none-manylinux1_x86_64.whl (731.7 MB)\n",
            "Collecting nvidia-cublas-cu12==12.1.3.1 (from torch>=1.11.0->ctgan>=0.10.0->sdv)\n",
            "  Using cached nvidia_cublas_cu12-12.1.3.1-py3-none-manylinux1_x86_64.whl (410.6 MB)\n",
            "Collecting nvidia-cufft-cu12==11.0.2.54 (from torch>=1.11.0->ctgan>=0.10.0->sdv)\n",
            "  Using cached nvidia_cufft_cu12-11.0.2.54-py3-none-manylinux1_x86_64.whl (121.6 MB)\n",
            "Collecting nvidia-curand-cu12==10.3.2.106 (from torch>=1.11.0->ctgan>=0.10.0->sdv)\n",
            "  Using cached nvidia_curand_cu12-10.3.2.106-py3-none-manylinux1_x86_64.whl (56.5 MB)\n",
            "Collecting nvidia-cusolver-cu12==11.4.5.107 (from torch>=1.11.0->ctgan>=0.10.0->sdv)\n",
            "  Using cached nvidia_cusolver_cu12-11.4.5.107-py3-none-manylinux1_x86_64.whl (124.2 MB)\n",
            "Collecting nvidia-cusparse-cu12==12.1.0.106 (from torch>=1.11.0->ctgan>=0.10.0->sdv)\n",
            "  Using cached nvidia_cusparse_cu12-12.1.0.106-py3-none-manylinux1_x86_64.whl (196.0 MB)\n",
            "Collecting nvidia-nccl-cu12==2.19.3 (from torch>=1.11.0->ctgan>=0.10.0->sdv)\n",
            "  Using cached nvidia_nccl_cu12-2.19.3-py3-none-manylinux1_x86_64.whl (166.0 MB)\n",
            "Collecting nvidia-nvtx-cu12==12.1.105 (from torch>=1.11.0->ctgan>=0.10.0->sdv)\n",
            "  Using cached nvidia_nvtx_cu12-12.1.105-py3-none-manylinux1_x86_64.whl (99 kB)\n",
            "Requirement already satisfied: triton==2.2.0 in /usr/local/lib/python3.10/dist-packages (from torch>=1.11.0->ctgan>=0.10.0->sdv) (2.2.0)\n",
            "Collecting nvidia-nvjitlink-cu12 (from nvidia-cusolver-cu12==11.4.5.107->torch>=1.11.0->ctgan>=0.10.0->sdv)\n",
            "  Using cached nvidia_nvjitlink_cu12-12.4.127-py3-none-manylinux2014_x86_64.whl (21.1 MB)\n",
            "Requirement already satisfied: MarkupSafe>=2.0 in /usr/local/lib/python3.10/dist-packages (from jinja2->torch>=1.11.0->ctgan>=0.10.0->sdv) (2.1.5)\n",
            "Requirement already satisfied: mpmath>=0.19 in /usr/local/lib/python3.10/dist-packages (from sympy->torch>=1.11.0->ctgan>=0.10.0->sdv) (1.3.0)\n",
            "Installing collected packages: plotly, nvidia-nvtx-cu12, nvidia-nvjitlink-cu12, nvidia-nccl-cu12, nvidia-curand-cu12, nvidia-cufft-cu12, nvidia-cuda-runtime-cu12, nvidia-cuda-nvrtc-cu12, nvidia-cuda-cupti-cu12, nvidia-cublas-cu12, jmespath, nvidia-cusparse-cu12, nvidia-cudnn-cu12, Faker, botocore, s3transfer, rdt, nvidia-cusolver-cu12, copulas, sdmetrics, boto3, deepecho, ctgan, sdv\n",
            "  Attempting uninstall: plotly\n",
            "    Found existing installation: plotly 5.15.0\n",
            "    Uninstalling plotly-5.15.0:\n",
            "      Successfully uninstalled plotly-5.15.0\n",
            "Successfully installed Faker-24.14.0 boto3-1.34.92 botocore-1.34.92 copulas-0.11.0 ctgan-0.10.0 deepecho-0.6.0 jmespath-1.0.1 nvidia-cublas-cu12-12.1.3.1 nvidia-cuda-cupti-cu12-12.1.105 nvidia-cuda-nvrtc-cu12-12.1.105 nvidia-cuda-runtime-cu12-12.1.105 nvidia-cudnn-cu12-8.9.2.26 nvidia-cufft-cu12-11.0.2.54 nvidia-curand-cu12-10.3.2.106 nvidia-cusolver-cu12-11.4.5.107 nvidia-cusparse-cu12-12.1.0.106 nvidia-nccl-cu12-2.19.3 nvidia-nvjitlink-cu12-12.4.127 nvidia-nvtx-cu12-12.1.105 plotly-5.21.0 rdt-1.12.0 s3transfer-0.10.1 sdmetrics-0.14.0 sdv-1.12.1\n"
          ]
        }
      ],
      "source": [
        "!pip install sdv"
      ]
    },
    {
      "cell_type": "code",
      "source": [
        "import sdv\n",
        "import numpy as np\n",
        "import pandas as pd\n",
        "from matplotlib import pyplot as plt"
      ],
      "metadata": {
        "id": "bo4kMtm5clxj"
      },
      "execution_count": 4,
      "outputs": []
    },
    {
      "cell_type": "code",
      "source": [
        "print(sdv.version.public)"
      ],
      "metadata": {
        "colab": {
          "base_uri": "https://localhost:8080/"
        },
        "id": "8IExa9Zcckb4",
        "outputId": "f8e177db-36f6-454f-fd0c-e5233d516cac"
      },
      "execution_count": 5,
      "outputs": [
        {
          "output_type": "stream",
          "name": "stdout",
          "text": [
            "1.12.1\n"
          ]
        }
      ]
    },
    {
      "cell_type": "code",
      "source": [
        "data = pd.read_csv(r\"/content/drive/MyDrive/datasets/Mall_Customers (1).csv\")\n",
        "data\n"
      ],
      "metadata": {
        "colab": {
          "base_uri": "https://localhost:8080/",
          "height": 423
        },
        "id": "5XFFENr-ek1O",
        "outputId": "eb86d887-930f-4fa3-c303-6fa3e0048db2"
      },
      "execution_count": 6,
      "outputs": [
        {
          "output_type": "execute_result",
          "data": {
            "text/plain": [
              "     CustomerID   Genre  Age  Annual Income (k$)  Spending Score (1-100)\n",
              "0             1    Male   19                  15                      39\n",
              "1             2    Male   21                  15                      81\n",
              "2             3  Female   20                  16                       6\n",
              "3             4  Female   23                  16                      77\n",
              "4             5  Female   31                  17                      40\n",
              "..          ...     ...  ...                 ...                     ...\n",
              "195         196  Female   35                 120                      79\n",
              "196         197  Female   45                 126                      28\n",
              "197         198    Male   32                 126                      74\n",
              "198         199    Male   32                 137                      18\n",
              "199         200    Male   30                 137                      83\n",
              "\n",
              "[200 rows x 5 columns]"
            ],
            "text/html": [
              "\n",
              "  <div id=\"df-38e441a9-c78f-47db-ae90-190c125c4351\" class=\"colab-df-container\">\n",
              "    <div>\n",
              "<style scoped>\n",
              "    .dataframe tbody tr th:only-of-type {\n",
              "        vertical-align: middle;\n",
              "    }\n",
              "\n",
              "    .dataframe tbody tr th {\n",
              "        vertical-align: top;\n",
              "    }\n",
              "\n",
              "    .dataframe thead th {\n",
              "        text-align: right;\n",
              "    }\n",
              "</style>\n",
              "<table border=\"1\" class=\"dataframe\">\n",
              "  <thead>\n",
              "    <tr style=\"text-align: right;\">\n",
              "      <th></th>\n",
              "      <th>CustomerID</th>\n",
              "      <th>Genre</th>\n",
              "      <th>Age</th>\n",
              "      <th>Annual Income (k$)</th>\n",
              "      <th>Spending Score (1-100)</th>\n",
              "    </tr>\n",
              "  </thead>\n",
              "  <tbody>\n",
              "    <tr>\n",
              "      <th>0</th>\n",
              "      <td>1</td>\n",
              "      <td>Male</td>\n",
              "      <td>19</td>\n",
              "      <td>15</td>\n",
              "      <td>39</td>\n",
              "    </tr>\n",
              "    <tr>\n",
              "      <th>1</th>\n",
              "      <td>2</td>\n",
              "      <td>Male</td>\n",
              "      <td>21</td>\n",
              "      <td>15</td>\n",
              "      <td>81</td>\n",
              "    </tr>\n",
              "    <tr>\n",
              "      <th>2</th>\n",
              "      <td>3</td>\n",
              "      <td>Female</td>\n",
              "      <td>20</td>\n",
              "      <td>16</td>\n",
              "      <td>6</td>\n",
              "    </tr>\n",
              "    <tr>\n",
              "      <th>3</th>\n",
              "      <td>4</td>\n",
              "      <td>Female</td>\n",
              "      <td>23</td>\n",
              "      <td>16</td>\n",
              "      <td>77</td>\n",
              "    </tr>\n",
              "    <tr>\n",
              "      <th>4</th>\n",
              "      <td>5</td>\n",
              "      <td>Female</td>\n",
              "      <td>31</td>\n",
              "      <td>17</td>\n",
              "      <td>40</td>\n",
              "    </tr>\n",
              "    <tr>\n",
              "      <th>...</th>\n",
              "      <td>...</td>\n",
              "      <td>...</td>\n",
              "      <td>...</td>\n",
              "      <td>...</td>\n",
              "      <td>...</td>\n",
              "    </tr>\n",
              "    <tr>\n",
              "      <th>195</th>\n",
              "      <td>196</td>\n",
              "      <td>Female</td>\n",
              "      <td>35</td>\n",
              "      <td>120</td>\n",
              "      <td>79</td>\n",
              "    </tr>\n",
              "    <tr>\n",
              "      <th>196</th>\n",
              "      <td>197</td>\n",
              "      <td>Female</td>\n",
              "      <td>45</td>\n",
              "      <td>126</td>\n",
              "      <td>28</td>\n",
              "    </tr>\n",
              "    <tr>\n",
              "      <th>197</th>\n",
              "      <td>198</td>\n",
              "      <td>Male</td>\n",
              "      <td>32</td>\n",
              "      <td>126</td>\n",
              "      <td>74</td>\n",
              "    </tr>\n",
              "    <tr>\n",
              "      <th>198</th>\n",
              "      <td>199</td>\n",
              "      <td>Male</td>\n",
              "      <td>32</td>\n",
              "      <td>137</td>\n",
              "      <td>18</td>\n",
              "    </tr>\n",
              "    <tr>\n",
              "      <th>199</th>\n",
              "      <td>200</td>\n",
              "      <td>Male</td>\n",
              "      <td>30</td>\n",
              "      <td>137</td>\n",
              "      <td>83</td>\n",
              "    </tr>\n",
              "  </tbody>\n",
              "</table>\n",
              "<p>200 rows × 5 columns</p>\n",
              "</div>\n",
              "    <div class=\"colab-df-buttons\">\n",
              "\n",
              "  <div class=\"colab-df-container\">\n",
              "    <button class=\"colab-df-convert\" onclick=\"convertToInteractive('df-38e441a9-c78f-47db-ae90-190c125c4351')\"\n",
              "            title=\"Convert this dataframe to an interactive table.\"\n",
              "            style=\"display:none;\">\n",
              "\n",
              "  <svg xmlns=\"http://www.w3.org/2000/svg\" height=\"24px\" viewBox=\"0 -960 960 960\">\n",
              "    <path d=\"M120-120v-720h720v720H120Zm60-500h600v-160H180v160Zm220 220h160v-160H400v160Zm0 220h160v-160H400v160ZM180-400h160v-160H180v160Zm440 0h160v-160H620v160ZM180-180h160v-160H180v160Zm440 0h160v-160H620v160Z\"/>\n",
              "  </svg>\n",
              "    </button>\n",
              "\n",
              "  <style>\n",
              "    .colab-df-container {\n",
              "      display:flex;\n",
              "      gap: 12px;\n",
              "    }\n",
              "\n",
              "    .colab-df-convert {\n",
              "      background-color: #E8F0FE;\n",
              "      border: none;\n",
              "      border-radius: 50%;\n",
              "      cursor: pointer;\n",
              "      display: none;\n",
              "      fill: #1967D2;\n",
              "      height: 32px;\n",
              "      padding: 0 0 0 0;\n",
              "      width: 32px;\n",
              "    }\n",
              "\n",
              "    .colab-df-convert:hover {\n",
              "      background-color: #E2EBFA;\n",
              "      box-shadow: 0px 1px 2px rgba(60, 64, 67, 0.3), 0px 1px 3px 1px rgba(60, 64, 67, 0.15);\n",
              "      fill: #174EA6;\n",
              "    }\n",
              "\n",
              "    .colab-df-buttons div {\n",
              "      margin-bottom: 4px;\n",
              "    }\n",
              "\n",
              "    [theme=dark] .colab-df-convert {\n",
              "      background-color: #3B4455;\n",
              "      fill: #D2E3FC;\n",
              "    }\n",
              "\n",
              "    [theme=dark] .colab-df-convert:hover {\n",
              "      background-color: #434B5C;\n",
              "      box-shadow: 0px 1px 3px 1px rgba(0, 0, 0, 0.15);\n",
              "      filter: drop-shadow(0px 1px 2px rgba(0, 0, 0, 0.3));\n",
              "      fill: #FFFFFF;\n",
              "    }\n",
              "  </style>\n",
              "\n",
              "    <script>\n",
              "      const buttonEl =\n",
              "        document.querySelector('#df-38e441a9-c78f-47db-ae90-190c125c4351 button.colab-df-convert');\n",
              "      buttonEl.style.display =\n",
              "        google.colab.kernel.accessAllowed ? 'block' : 'none';\n",
              "\n",
              "      async function convertToInteractive(key) {\n",
              "        const element = document.querySelector('#df-38e441a9-c78f-47db-ae90-190c125c4351');\n",
              "        const dataTable =\n",
              "          await google.colab.kernel.invokeFunction('convertToInteractive',\n",
              "                                                    [key], {});\n",
              "        if (!dataTable) return;\n",
              "\n",
              "        const docLinkHtml = 'Like what you see? Visit the ' +\n",
              "          '<a target=\"_blank\" href=https://colab.research.google.com/notebooks/data_table.ipynb>data table notebook</a>'\n",
              "          + ' to learn more about interactive tables.';\n",
              "        element.innerHTML = '';\n",
              "        dataTable['output_type'] = 'display_data';\n",
              "        await google.colab.output.renderOutput(dataTable, element);\n",
              "        const docLink = document.createElement('div');\n",
              "        docLink.innerHTML = docLinkHtml;\n",
              "        element.appendChild(docLink);\n",
              "      }\n",
              "    </script>\n",
              "  </div>\n",
              "\n",
              "\n",
              "<div id=\"df-56009aeb-7ace-4274-9662-fbe45b934776\">\n",
              "  <button class=\"colab-df-quickchart\" onclick=\"quickchart('df-56009aeb-7ace-4274-9662-fbe45b934776')\"\n",
              "            title=\"Suggest charts\"\n",
              "            style=\"display:none;\">\n",
              "\n",
              "<svg xmlns=\"http://www.w3.org/2000/svg\" height=\"24px\"viewBox=\"0 0 24 24\"\n",
              "     width=\"24px\">\n",
              "    <g>\n",
              "        <path d=\"M19 3H5c-1.1 0-2 .9-2 2v14c0 1.1.9 2 2 2h14c1.1 0 2-.9 2-2V5c0-1.1-.9-2-2-2zM9 17H7v-7h2v7zm4 0h-2V7h2v10zm4 0h-2v-4h2v4z\"/>\n",
              "    </g>\n",
              "</svg>\n",
              "  </button>\n",
              "\n",
              "<style>\n",
              "  .colab-df-quickchart {\n",
              "      --bg-color: #E8F0FE;\n",
              "      --fill-color: #1967D2;\n",
              "      --hover-bg-color: #E2EBFA;\n",
              "      --hover-fill-color: #174EA6;\n",
              "      --disabled-fill-color: #AAA;\n",
              "      --disabled-bg-color: #DDD;\n",
              "  }\n",
              "\n",
              "  [theme=dark] .colab-df-quickchart {\n",
              "      --bg-color: #3B4455;\n",
              "      --fill-color: #D2E3FC;\n",
              "      --hover-bg-color: #434B5C;\n",
              "      --hover-fill-color: #FFFFFF;\n",
              "      --disabled-bg-color: #3B4455;\n",
              "      --disabled-fill-color: #666;\n",
              "  }\n",
              "\n",
              "  .colab-df-quickchart {\n",
              "    background-color: var(--bg-color);\n",
              "    border: none;\n",
              "    border-radius: 50%;\n",
              "    cursor: pointer;\n",
              "    display: none;\n",
              "    fill: var(--fill-color);\n",
              "    height: 32px;\n",
              "    padding: 0;\n",
              "    width: 32px;\n",
              "  }\n",
              "\n",
              "  .colab-df-quickchart:hover {\n",
              "    background-color: var(--hover-bg-color);\n",
              "    box-shadow: 0 1px 2px rgba(60, 64, 67, 0.3), 0 1px 3px 1px rgba(60, 64, 67, 0.15);\n",
              "    fill: var(--button-hover-fill-color);\n",
              "  }\n",
              "\n",
              "  .colab-df-quickchart-complete:disabled,\n",
              "  .colab-df-quickchart-complete:disabled:hover {\n",
              "    background-color: var(--disabled-bg-color);\n",
              "    fill: var(--disabled-fill-color);\n",
              "    box-shadow: none;\n",
              "  }\n",
              "\n",
              "  .colab-df-spinner {\n",
              "    border: 2px solid var(--fill-color);\n",
              "    border-color: transparent;\n",
              "    border-bottom-color: var(--fill-color);\n",
              "    animation:\n",
              "      spin 1s steps(1) infinite;\n",
              "  }\n",
              "\n",
              "  @keyframes spin {\n",
              "    0% {\n",
              "      border-color: transparent;\n",
              "      border-bottom-color: var(--fill-color);\n",
              "      border-left-color: var(--fill-color);\n",
              "    }\n",
              "    20% {\n",
              "      border-color: transparent;\n",
              "      border-left-color: var(--fill-color);\n",
              "      border-top-color: var(--fill-color);\n",
              "    }\n",
              "    30% {\n",
              "      border-color: transparent;\n",
              "      border-left-color: var(--fill-color);\n",
              "      border-top-color: var(--fill-color);\n",
              "      border-right-color: var(--fill-color);\n",
              "    }\n",
              "    40% {\n",
              "      border-color: transparent;\n",
              "      border-right-color: var(--fill-color);\n",
              "      border-top-color: var(--fill-color);\n",
              "    }\n",
              "    60% {\n",
              "      border-color: transparent;\n",
              "      border-right-color: var(--fill-color);\n",
              "    }\n",
              "    80% {\n",
              "      border-color: transparent;\n",
              "      border-right-color: var(--fill-color);\n",
              "      border-bottom-color: var(--fill-color);\n",
              "    }\n",
              "    90% {\n",
              "      border-color: transparent;\n",
              "      border-bottom-color: var(--fill-color);\n",
              "    }\n",
              "  }\n",
              "</style>\n",
              "\n",
              "  <script>\n",
              "    async function quickchart(key) {\n",
              "      const quickchartButtonEl =\n",
              "        document.querySelector('#' + key + ' button');\n",
              "      quickchartButtonEl.disabled = true;  // To prevent multiple clicks.\n",
              "      quickchartButtonEl.classList.add('colab-df-spinner');\n",
              "      try {\n",
              "        const charts = await google.colab.kernel.invokeFunction(\n",
              "            'suggestCharts', [key], {});\n",
              "      } catch (error) {\n",
              "        console.error('Error during call to suggestCharts:', error);\n",
              "      }\n",
              "      quickchartButtonEl.classList.remove('colab-df-spinner');\n",
              "      quickchartButtonEl.classList.add('colab-df-quickchart-complete');\n",
              "    }\n",
              "    (() => {\n",
              "      let quickchartButtonEl =\n",
              "        document.querySelector('#df-56009aeb-7ace-4274-9662-fbe45b934776 button');\n",
              "      quickchartButtonEl.style.display =\n",
              "        google.colab.kernel.accessAllowed ? 'block' : 'none';\n",
              "    })();\n",
              "  </script>\n",
              "</div>\n",
              "\n",
              "  <div id=\"id_1b8a1b85-4c10-4ee4-a280-cc5d9f1ef236\">\n",
              "    <style>\n",
              "      .colab-df-generate {\n",
              "        background-color: #E8F0FE;\n",
              "        border: none;\n",
              "        border-radius: 50%;\n",
              "        cursor: pointer;\n",
              "        display: none;\n",
              "        fill: #1967D2;\n",
              "        height: 32px;\n",
              "        padding: 0 0 0 0;\n",
              "        width: 32px;\n",
              "      }\n",
              "\n",
              "      .colab-df-generate:hover {\n",
              "        background-color: #E2EBFA;\n",
              "        box-shadow: 0px 1px 2px rgba(60, 64, 67, 0.3), 0px 1px 3px 1px rgba(60, 64, 67, 0.15);\n",
              "        fill: #174EA6;\n",
              "      }\n",
              "\n",
              "      [theme=dark] .colab-df-generate {\n",
              "        background-color: #3B4455;\n",
              "        fill: #D2E3FC;\n",
              "      }\n",
              "\n",
              "      [theme=dark] .colab-df-generate:hover {\n",
              "        background-color: #434B5C;\n",
              "        box-shadow: 0px 1px 3px 1px rgba(0, 0, 0, 0.15);\n",
              "        filter: drop-shadow(0px 1px 2px rgba(0, 0, 0, 0.3));\n",
              "        fill: #FFFFFF;\n",
              "      }\n",
              "    </style>\n",
              "    <button class=\"colab-df-generate\" onclick=\"generateWithVariable('data')\"\n",
              "            title=\"Generate code using this dataframe.\"\n",
              "            style=\"display:none;\">\n",
              "\n",
              "  <svg xmlns=\"http://www.w3.org/2000/svg\" height=\"24px\"viewBox=\"0 0 24 24\"\n",
              "       width=\"24px\">\n",
              "    <path d=\"M7,19H8.4L18.45,9,17,7.55,7,17.6ZM5,21V16.75L18.45,3.32a2,2,0,0,1,2.83,0l1.4,1.43a1.91,1.91,0,0,1,.58,1.4,1.91,1.91,0,0,1-.58,1.4L9.25,21ZM18.45,9,17,7.55Zm-12,3A5.31,5.31,0,0,0,4.9,8.1,5.31,5.31,0,0,0,1,6.5,5.31,5.31,0,0,0,4.9,4.9,5.31,5.31,0,0,0,6.5,1,5.31,5.31,0,0,0,8.1,4.9,5.31,5.31,0,0,0,12,6.5,5.46,5.46,0,0,0,6.5,12Z\"/>\n",
              "  </svg>\n",
              "    </button>\n",
              "    <script>\n",
              "      (() => {\n",
              "      const buttonEl =\n",
              "        document.querySelector('#id_1b8a1b85-4c10-4ee4-a280-cc5d9f1ef236 button.colab-df-generate');\n",
              "      buttonEl.style.display =\n",
              "        google.colab.kernel.accessAllowed ? 'block' : 'none';\n",
              "\n",
              "      buttonEl.onclick = () => {\n",
              "        google.colab.notebook.generateWithVariable('data');\n",
              "      }\n",
              "      })();\n",
              "    </script>\n",
              "  </div>\n",
              "\n",
              "    </div>\n",
              "  </div>\n"
            ],
            "application/vnd.google.colaboratory.intrinsic+json": {
              "type": "dataframe",
              "variable_name": "data",
              "summary": "{\n  \"name\": \"data\",\n  \"rows\": 200,\n  \"fields\": [\n    {\n      \"column\": \"CustomerID\",\n      \"properties\": {\n        \"dtype\": \"number\",\n        \"std\": 57,\n        \"min\": 1,\n        \"max\": 200,\n        \"num_unique_values\": 200,\n        \"samples\": [\n          96,\n          16,\n          31\n        ],\n        \"semantic_type\": \"\",\n        \"description\": \"\"\n      }\n    },\n    {\n      \"column\": \"Genre\",\n      \"properties\": {\n        \"dtype\": \"category\",\n        \"num_unique_values\": 2,\n        \"samples\": [\n          \"Female\",\n          \"Male\"\n        ],\n        \"semantic_type\": \"\",\n        \"description\": \"\"\n      }\n    },\n    {\n      \"column\": \"Age\",\n      \"properties\": {\n        \"dtype\": \"number\",\n        \"std\": 13,\n        \"min\": 18,\n        \"max\": 70,\n        \"num_unique_values\": 51,\n        \"samples\": [\n          55,\n          26\n        ],\n        \"semantic_type\": \"\",\n        \"description\": \"\"\n      }\n    },\n    {\n      \"column\": \"Annual Income (k$)\",\n      \"properties\": {\n        \"dtype\": \"number\",\n        \"std\": 26,\n        \"min\": 15,\n        \"max\": 137,\n        \"num_unique_values\": 64,\n        \"samples\": [\n          87,\n          101\n        ],\n        \"semantic_type\": \"\",\n        \"description\": \"\"\n      }\n    },\n    {\n      \"column\": \"Spending Score (1-100)\",\n      \"properties\": {\n        \"dtype\": \"number\",\n        \"std\": 25,\n        \"min\": 1,\n        \"max\": 99,\n        \"num_unique_values\": 84,\n        \"samples\": [\n          83,\n          39\n        ],\n        \"semantic_type\": \"\",\n        \"description\": \"\"\n      }\n    }\n  ]\n}"
            }
          },
          "metadata": {},
          "execution_count": 6
        }
      ]
    },
    {
      "cell_type": "code",
      "source": [
        "data['Genre'].head(3)"
      ],
      "metadata": {
        "colab": {
          "base_uri": "https://localhost:8080/"
        },
        "id": "VUl_nm1yemYK",
        "outputId": "300da2ad-2f90-401a-d71b-b863e26a6ba7"
      },
      "execution_count": 7,
      "outputs": [
        {
          "output_type": "execute_result",
          "data": {
            "text/plain": [
              "0      Male\n",
              "1      Male\n",
              "2    Female\n",
              "Name: Genre, dtype: object"
            ]
          },
          "metadata": {},
          "execution_count": 7
        }
      ]
    },
    {
      "cell_type": "code",
      "source": [
        "data['Annual Income (k$)'].head(3)"
      ],
      "metadata": {
        "colab": {
          "base_uri": "https://localhost:8080/"
        },
        "id": "luf4akQAek37",
        "outputId": "b6bc0593-fdc9-4a4d-d431-4b2f768ae127"
      },
      "execution_count": 8,
      "outputs": [
        {
          "output_type": "execute_result",
          "data": {
            "text/plain": [
              "0    15\n",
              "1    15\n",
              "2    16\n",
              "Name: Annual Income (k$), dtype: int64"
            ]
          },
          "metadata": {},
          "execution_count": 8
        }
      ]
    },
    {
      "cell_type": "code",
      "source": [
        "from sdv.metadata import SingleTableMetadata\n",
        "\n",
        "\n",
        "metadata = SingleTableMetadata()"
      ],
      "metadata": {
        "id": "ZRau7wGnek6u"
      },
      "execution_count": 9,
      "outputs": []
    },
    {
      "cell_type": "code",
      "source": [
        "metadata.detect_from_dataframe(data)\n"
      ],
      "metadata": {
        "id": "ntD1ZZTgek-W"
      },
      "execution_count": 10,
      "outputs": []
    },
    {
      "cell_type": "code",
      "source": [
        "python_dict = metadata.to_dict()\n"
      ],
      "metadata": {
        "id": "hkhVKLqquJEm"
      },
      "execution_count": 11,
      "outputs": []
    },
    {
      "cell_type": "code",
      "source": [
        "metadata.visualize(\n",
        "    show_table_details='summarized',\n",
        "    output_filepath='my_metadata.png'\n",
        ")\n"
      ],
      "metadata": {
        "colab": {
          "base_uri": "https://localhost:8080/",
          "height": 155
        },
        "id": "1qPeSAvRuJnu",
        "outputId": "826dc7b0-efce-4bb4-9cc5-dd5021a8df16"
      },
      "execution_count": 12,
      "outputs": [
        {
          "output_type": "execute_result",
          "data": {
            "image/svg+xml": "<?xml version=\"1.0\" encoding=\"UTF-8\" standalone=\"no\"?>\n<!DOCTYPE svg PUBLIC \"-//W3C//DTD SVG 1.1//EN\"\n \"http://www.w3.org/Graphics/SVG/1.1/DTD/svg11.dtd\">\n<!-- Generated by graphviz version 2.43.0 (0)\n -->\n<!-- Title: Metadata Pages: 1 -->\n<svg width=\"167pt\" height=\"100pt\"\n viewBox=\"0.00 0.00 167.00 100.00\" xmlns=\"http://www.w3.org/2000/svg\" xmlns:xlink=\"http://www.w3.org/1999/xlink\">\n<g id=\"graph0\" class=\"graph\" transform=\"scale(1 1) rotate(0) translate(4 96)\">\n<title>Metadata</title>\n<polygon fill=\"white\" stroke=\"transparent\" points=\"-4,4 -4,-96 163,-96 163,4 -4,4\"/>\n<g id=\"node1\" class=\"node\">\n<title></title>\n<path fill=\"#ffec8b\" stroke=\"black\" d=\"M12,-0.5C12,-0.5 147,-0.5 147,-0.5 153,-0.5 159,-6.5 159,-12.5 159,-12.5 159,-79.5 159,-79.5 159,-85.5 153,-91.5 147,-91.5 147,-91.5 12,-91.5 12,-91.5 6,-91.5 0,-85.5 0,-79.5 0,-79.5 0,-12.5 0,-12.5 0,-6.5 6,-0.5 12,-0.5\"/>\n<text text-anchor=\"start\" x=\"8\" y=\"-76.3\" font-family=\"Times,serif\" font-size=\"14.00\">Columns</text>\n<text text-anchor=\"start\" x=\"8\" y=\"-61.3\" font-family=\"Times,serif\" font-size=\"14.00\">    • categorical : 1</text>\n<text text-anchor=\"start\" x=\"8\" y=\"-46.3\" font-family=\"Times,serif\" font-size=\"14.00\">    • id : 1</text>\n<text text-anchor=\"start\" x=\"8\" y=\"-31.3\" font-family=\"Times,serif\" font-size=\"14.00\">    • numerical : 3</text>\n<polyline fill=\"none\" stroke=\"black\" points=\"0,-23.5 159,-23.5 \"/>\n<text text-anchor=\"start\" x=\"8\" y=\"-8.3\" font-family=\"Times,serif\" font-size=\"14.00\">Primary key: CustomerID</text>\n</g>\n</g>\n</svg>\n",
            "text/plain": [
              "<graphviz.graphs.Digraph at 0x7d2a3e17a440>"
            ]
          },
          "metadata": {},
          "execution_count": 12
        }
      ]
    },
    {
      "cell_type": "code",
      "source": [
        "metadata.get_column_names(sdtype='unknown')"
      ],
      "metadata": {
        "colab": {
          "base_uri": "https://localhost:8080/"
        },
        "id": "hNciIFGZvNKN",
        "outputId": "f5ac1ca6-6b5d-4bfe-d198-4f470b2e7608"
      },
      "execution_count": 13,
      "outputs": [
        {
          "output_type": "execute_result",
          "data": {
            "text/plain": [
              "[]"
            ]
          },
          "metadata": {},
          "execution_count": 13
        }
      ]
    },
    {
      "cell_type": "code",
      "source": [
        "[ 'Age', 'Annual Income (k$)', 'Spending Score (1-100)']\n",
        "\n"
      ],
      "metadata": {
        "colab": {
          "base_uri": "https://localhost:8080/"
        },
        "id": "lxzfn1Q5zcr2",
        "outputId": "de89c5cc-ebce-45cb-e797-3e1ce86bd7af"
      },
      "execution_count": 14,
      "outputs": [
        {
          "output_type": "execute_result",
          "data": {
            "text/plain": [
              "['Age', 'Annual Income (k$)', 'Spending Score (1-100)']"
            ]
          },
          "metadata": {},
          "execution_count": 14
        }
      ]
    },
    {
      "cell_type": "code",
      "source": [
        "metadata.validate()"
      ],
      "metadata": {
        "id": "TIHIyCKnzc7x"
      },
      "execution_count": 15,
      "outputs": []
    },
    {
      "cell_type": "code",
      "source": [
        "\n",
        "metadata.set_primary_key(column_name='CustomerID')"
      ],
      "metadata": {
        "colab": {
          "base_uri": "https://localhost:8080/"
        },
        "id": "DF_QkJt3zdGE",
        "outputId": "6d5ef770-b1e6-415c-a083-94c2226a2206"
      },
      "execution_count": 16,
      "outputs": [
        {
          "output_type": "stream",
          "name": "stderr",
          "text": [
            "/usr/local/lib/python3.10/dist-packages/sdv/metadata/single_table.py:667: UserWarning: There is an existing primary key 'CustomerID'. This key will be removed.\n",
            "  warnings.warn(\n"
          ]
        }
      ]
    },
    {
      "cell_type": "code",
      "source": [
        "metadata.remove_primary_key()"
      ],
      "metadata": {
        "id": "1CcCydKlzdhj"
      },
      "execution_count": 17,
      "outputs": []
    },
    {
      "cell_type": "code",
      "source": [
        "from sdv.single_table import GaussianCopulaSynthesizer\n",
        "\n",
        "\n",
        "synthesizer = GaussianCopulaSynthesizer(metadata)\n",
        "\n",
        "synthesizer.fit(data)\n",
        "\n",
        "\n",
        "synthetic_data = synthesizer.sample(num_rows=500)"
      ],
      "metadata": {
        "colab": {
          "base_uri": "https://localhost:8080/"
        },
        "id": "YVUcaxuf0fOo",
        "outputId": "9629e099-8a22-4e9b-b2f2-d527ef62e2ef"
      },
      "execution_count": 18,
      "outputs": [
        {
          "output_type": "stream",
          "name": "stderr",
          "text": [
            "/usr/local/lib/python3.10/dist-packages/sdv/single_table/base.py:82: UserWarning: We strongly recommend saving the metadata using 'save_to_json' for replicability in future SDV versions.\n",
            "  warnings.warn(\n"
          ]
        }
      ]
    },
    {
      "cell_type": "code",
      "source": [
        "metadata.save_to_json(filepath='my_metadata_v1.json')"
      ],
      "metadata": {
        "id": "UkKNp4nr0fm0"
      },
      "execution_count": 19,
      "outputs": []
    },
    {
      "cell_type": "code",
      "source": [
        "synthesizer = GaussianCopulaSynthesizer(\n",
        "    metadata, # required\n",
        "    enforce_min_max_values=True,\n",
        "    enforce_rounding=False,\n",
        "    numerical_distributions={\n",
        "        'Annual Income (k$)': 'beta',\n",
        "        'Spending Score (1-100)': 'uniform'\n",
        "    },\n",
        "    default_distribution='norm'\n",
        ")"
      ],
      "metadata": {
        "id": "L4La_xhS0ud1"
      },
      "execution_count": 20,
      "outputs": []
    },
    {
      "cell_type": "code",
      "source": [
        "synthesizer.get_parameters()"
      ],
      "metadata": {
        "colab": {
          "base_uri": "https://localhost:8080/"
        },
        "id": "og0C-Kut0urw",
        "outputId": "8e3d0b8b-0ea6-4cb2-a5c1-754de3417602"
      },
      "execution_count": 21,
      "outputs": [
        {
          "output_type": "execute_result",
          "data": {
            "text/plain": [
              "{'enforce_min_max_values': True,\n",
              " 'enforce_rounding': False,\n",
              " 'locales': ['en_US'],\n",
              " 'numerical_distributions': {'Annual Income (k$)': 'beta',\n",
              "  'Spending Score (1-100)': 'uniform'},\n",
              " 'default_distribution': 'norm'}"
            ]
          },
          "metadata": {},
          "execution_count": 21
        }
      ]
    },
    {
      "cell_type": "code",
      "source": [
        "metadata = synthesizer.get_metadata()"
      ],
      "metadata": {
        "id": "J8kQoqEb0u1x"
      },
      "execution_count": 22,
      "outputs": []
    },
    {
      "cell_type": "code",
      "source": [
        "synthesizer.fit(data)"
      ],
      "metadata": {
        "id": "6uAa79YC0u-R"
      },
      "execution_count": 23,
      "outputs": []
    },
    {
      "cell_type": "code",
      "source": [
        "synthesizer.get_learned_distributions()"
      ],
      "metadata": {
        "colab": {
          "base_uri": "https://localhost:8080/"
        },
        "id": "sV4TUBem0vE5",
        "outputId": "d8624126-29ed-42e5-934e-62bbbdbd87c0"
      },
      "execution_count": 24,
      "outputs": [
        {
          "output_type": "execute_result",
          "data": {
            "text/plain": [
              "{'Genre': {'distribution': 'norm',\n",
              "  'learned_parameters': {'loc': 0.49223087611523836,\n",
              "   'scale': 0.2730030418873652}},\n",
              " 'Age': {'distribution': 'norm',\n",
              "  'learned_parameters': {'loc': 38.85, 'scale': 13.934041050606963}},\n",
              " 'Annual Income (k$)': {'distribution': 'beta',\n",
              "  'learned_parameters': {'loc': 13.41743068155646,\n",
              "   'scale': 135.19563752356004,\n",
              "   'a': 1.550724035925752,\n",
              "   'b': 2.938877177428231}},\n",
              " 'Spending Score (1-100)': {'distribution': 'uniform',\n",
              "  'learned_parameters': {'loc': 1.0, 'scale': 98.0}}}"
            ]
          },
          "metadata": {},
          "execution_count": 24
        }
      ]
    },
    {
      "cell_type": "code",
      "source": [
        "synthesizer.save(\n",
        "    filepath='my_synthesizer.pkl'\n",
        ")"
      ],
      "metadata": {
        "id": "yuxC9Wr30vJX"
      },
      "execution_count": 25,
      "outputs": []
    },
    {
      "cell_type": "code",
      "source": [
        "from sdv.single_table import GaussianCopulaSynthesizer\n",
        "\n",
        "synthesizer = GaussianCopulaSynthesizer.load(\n",
        "    filepath='my_synthesizer.pkl'\n",
        ")"
      ],
      "metadata": {
        "id": "qYUaC0-F0vNr"
      },
      "execution_count": 26,
      "outputs": []
    },
    {
      "cell_type": "code",
      "source": [
        "synthesizer.auto_assign_transformers(data)"
      ],
      "metadata": {
        "id": "3lsUwMnL1hdn"
      },
      "execution_count": 27,
      "outputs": []
    },
    {
      "cell_type": "code",
      "source": [
        "synthesizer.get_transformers()"
      ],
      "metadata": {
        "id": "HkhtsAVQ1hpH",
        "colab": {
          "base_uri": "https://localhost:8080/"
        },
        "outputId": "1db71331-32e1-4bfd-a670-6a3bd0486a12"
      },
      "execution_count": 28,
      "outputs": [
        {
          "output_type": "execute_result",
          "data": {
            "text/plain": [
              "{'CustomerID': AnonymizedFaker(function_name='bothify', function_kwargs={'text': '#########'}),\n",
              " 'Genre': UniformEncoder(),\n",
              " 'Age': FloatFormatter(enforce_min_max_values=True),\n",
              " 'Annual Income (k$)': FloatFormatter(enforce_min_max_values=True),\n",
              " 'Spending Score (1-100)': FloatFormatter(enforce_min_max_values=True)}"
            ]
          },
          "metadata": {},
          "execution_count": 28
        }
      ]
    },
    {
      "cell_type": "code",
      "source": [
        "from rdt.transformers import FloatFormatter\n",
        "\n",
        "synthesizer.update_transformers(column_name_to_transformer={\n",
        "    'Annual Income (k$)':FloatFormatter(missing_value_replacement=0.0)\n",
        "})"
      ],
      "metadata": {
        "id": "HTebRQKo1hz7",
        "colab": {
          "base_uri": "https://localhost:8080/"
        },
        "outputId": "a637f1c1-efa6-4b64-f4c5-1fdb02365b44"
      },
      "execution_count": 31,
      "outputs": [
        {
          "output_type": "stream",
          "name": "stderr",
          "text": [
            "/usr/local/lib/python3.10/dist-packages/sdv/single_table/base.py:222: UserWarning: For this change to take effect, please refit the synthesizer using `fit`.\n",
            "  warnings.warn(msg, UserWarning)\n"
          ]
        }
      ]
    },
    {
      "cell_type": "code",
      "source": [
        "processed_data = synthesizer.preprocess(data)"
      ],
      "metadata": {
        "id": "1LahOHKl1h_M",
        "colab": {
          "base_uri": "https://localhost:8080/"
        },
        "outputId": "18d25aa6-3f9b-4121-d071-9a6d1a043f2e"
      },
      "execution_count": 32,
      "outputs": [
        {
          "output_type": "stream",
          "name": "stderr",
          "text": [
            "/usr/local/lib/python3.10/dist-packages/sdv/single_table/base.py:369: UserWarning: This model has already been fitted. To use the new preprocessed data, please refit the model using 'fit' or 'fit_processed_data'.\n",
            "  warnings.warn(\n"
          ]
        }
      ]
    },
    {
      "cell_type": "code",
      "source": [
        "synthesizer.fit_processed_data(processed_data)"
      ],
      "metadata": {
        "id": "xDXh-0ar1iJ5"
      },
      "execution_count": 33,
      "outputs": []
    },
    {
      "cell_type": "code",
      "source": [
        "synthetic_data = synthesizer.sample(num_rows=1_000_000)\n",
        "\n",
        "# save the data as a CSV\n",
        "synthetic_data.to_csv('synthetic_data.csv', index=False)"
      ],
      "metadata": {
        "id": "ga00XhLiVqKV"
      },
      "execution_count": 35,
      "outputs": []
    },
    {
      "cell_type": "code",
      "source": [
        "synthetic_data = synthesizer.sample(\n",
        "    num_rows=1_000_000,\n",
        "    batch_size=1_000\n",
        ")"
      ],
      "metadata": {
        "colab": {
          "base_uri": "https://localhost:8080/"
        },
        "id": "8FtM5GezVqPy",
        "outputId": "dfb04beb-7334-4004-d5e0-0a8ccb39d44b"
      },
      "execution_count": 36,
      "outputs": [
        {
          "output_type": "stream",
          "name": "stderr",
          "text": [
            "Sampling rows: 100%|██████████| 1000000/1000000 [01:07<00:00, 14747.92it/s]\n"
          ]
        }
      ]
    },
    {
      "cell_type": "code",
      "source": [
        "from sdv.evaluation.single_table import run_diagnostic, evaluate_quality\n",
        "from sdv.evaluation.single_table import get_column_plot\n",
        "\n",
        "# 1. perform basic validity checks\n",
        "diagnostic = run_diagnostic(data, synthetic_data, metadata)\n",
        "\n",
        "# 2. measure the statistical similarity\n",
        "quality_report = evaluate_quality(data, synthetic_data, metadata)\n",
        "\n",
        "# 3. plot the data\n",
        "fig = get_column_plot(\n",
        "    real_data=data,\n",
        "    synthetic_data=synthetic_data,\n",
        "    metadata=metadata,\n",
        "    column_name='Annual Income (k$)'\n",
        ")\n",
        "\n",
        "fig.show()"
      ],
      "metadata": {
        "colab": {
          "base_uri": "https://localhost:8080/",
          "height": 889
        },
        "id": "_vnRcIDAVqSM",
        "outputId": "a5256815-24d9-4a22-f69b-5c2018d2452c"
      },
      "execution_count": 38,
      "outputs": [
        {
          "output_type": "stream",
          "name": "stdout",
          "text": [
            "Generating report ...\n",
            "\n",
            "(1/2) Evaluating Data Validity: |██████████| 5/5 [00:00<00:00, 44.59it/s]|\n",
            "Data Validity Score: 100.0%\n",
            "\n",
            "(2/2) Evaluating Data Structure: |██████████| 1/1 [00:00<00:00, 212.87it/s]|\n",
            "Data Structure Score: 100.0%\n",
            "\n",
            "Overall Score (Average): 100.0%\n",
            "\n",
            "Generating report ...\n",
            "\n",
            "(1/2) Evaluating Column Shapes: |██████████| 5/5 [00:00<00:00,  9.31it/s]|\n",
            "Column Shapes Score: 92.82%\n",
            "\n",
            "(2/2) Evaluating Column Pair Trends: |██████████| 10/10 [00:03<00:00,  2.89it/s]|\n",
            "Column Pair Trends Score: 90.28%\n",
            "\n",
            "Overall Score (Average): 91.55%\n",
            "\n"
          ]
        },
        {
          "output_type": "display_data",
          "data": {
            "text/html": [
              "<html>\n",
              "<head><meta charset=\"utf-8\" /></head>\n",
              "<body>\n",
              "    <div>            <script src=\"https://cdnjs.cloudflare.com/ajax/libs/mathjax/2.7.5/MathJax.js?config=TeX-AMS-MML_SVG\"></script><script type=\"text/javascript\">if (window.MathJax && window.MathJax.Hub && window.MathJax.Hub.Config) {window.MathJax.Hub.Config({SVG: {font: \"STIX-Web\"}});}</script>                <script type=\"text/javascript\">window.PlotlyConfig = {MathJaxConfig: 'local'};</script>\n",
              "        <script charset=\"utf-8\" src=\"https://cdn.plot.ly/plotly-2.31.1.min.js\"></script>                <div id=\"5c4050e6-59fd-4b6e-b576-84331fe93ef2\" class=\"plotly-graph-div\" style=\"height:525px; width:100%;\"></div>            <script type=\"text/javascript\">                                    window.PLOTLYENV=window.PLOTLYENV || {};                                    if (document.getElementById(\"5c4050e6-59fd-4b6e-b576-84331fe93ef2\")) {                    Plotly.newPlot(                        \"5c4050e6-59fd-4b6e-b576-84331fe93ef2\",                        [{\"legendgroup\":\"Real\",\"marker\":{\"color\":\"#000036\"},\"mode\":\"lines\",\"name\":\"Real\",\"showlegend\":true,\"x\":[15.0,15.244,15.488,15.732,15.975999999999999,16.22,16.464,16.708,16.951999999999998,17.196,17.44,17.684,17.928,18.172,18.416,18.66,18.904,19.148,19.392,19.636,19.88,20.124,20.368000000000002,20.612000000000002,20.856,21.1,21.344,21.588,21.832,22.076,22.32,22.564,22.808,23.052,23.296,23.54,23.784,24.028,24.272,24.516,24.759999999999998,25.003999999999998,25.247999999999998,25.492,25.736,25.98,26.224,26.468,26.712,26.956,27.2,27.444000000000003,27.688000000000002,27.932000000000002,28.176000000000002,28.42,28.664,28.908,29.152,29.396,29.64,29.884,30.128,30.372,30.616,30.86,31.104,31.348,31.592,31.836,32.08,32.324,32.568,32.812,33.056,33.3,33.544,33.788,34.032,34.275999999999996,34.519999999999996,34.763999999999996,35.007999999999996,35.251999999999995,35.495999999999995,35.739999999999995,35.984,36.228,36.472,36.716,36.96,37.204,37.448,37.692,37.936,38.18,38.424,38.668,38.912,39.156,39.4,39.644,39.888000000000005,40.132000000000005,40.376000000000005,40.620000000000005,40.864000000000004,41.108000000000004,41.352000000000004,41.596000000000004,41.84,42.084,42.328,42.572,42.816,43.06,43.304,43.548,43.792,44.036,44.28,44.524,44.768,45.012,45.256,45.5,45.744,45.988,46.232,46.476,46.72,46.964,47.208,47.452,47.696,47.94,48.184,48.428,48.672,48.916,49.16,49.404,49.648,49.892,50.136,50.38,50.624,50.868,51.112,51.356,51.6,51.844,52.088,52.332,52.576,52.82,53.064,53.308,53.552,53.796,54.04,54.284,54.528,54.772,55.016,55.26,55.504,55.748,55.992,56.236,56.48,56.724,56.968,57.212,57.456,57.7,57.944,58.188,58.432,58.676,58.92,59.164,59.408,59.652,59.896,60.14,60.384,60.628,60.872,61.116,61.36,61.604,61.848,62.092,62.336,62.58,62.824,63.068,63.312,63.556,63.8,64.044,64.288,64.532,64.77600000000001,65.02000000000001,65.26400000000001,65.50800000000001,65.75200000000001,65.99600000000001,66.24000000000001,66.48400000000001,66.72800000000001,66.97200000000001,67.21600000000001,67.46000000000001,67.70400000000001,67.94800000000001,68.19200000000001,68.436,68.68,68.924,69.168,69.412,69.656,69.9,70.144,70.388,70.632,70.876,71.12,71.364,71.608,71.852,72.096,72.34,72.584,72.828,73.072,73.316,73.56,73.804,74.048,74.292,74.536,74.78,75.024,75.268,75.512,75.756,76.0,76.244,76.488,76.732,76.976,77.22,77.464,77.708,77.952,78.196,78.44,78.684,78.928,79.172,79.416,79.66,79.904,80.148,80.392,80.636,80.88,81.124,81.368,81.612,81.856,82.1,82.344,82.588,82.832,83.076,83.32,83.564,83.808,84.052,84.296,84.54,84.784,85.028,85.272,85.516,85.76,86.004,86.248,86.492,86.736,86.98,87.224,87.468,87.712,87.956,88.2,88.444,88.688,88.932,89.176,89.42,89.664,89.908,90.152,90.396,90.64,90.884,91.128,91.372,91.616,91.86,92.104,92.348,92.592,92.836,93.08,93.324,93.568,93.812,94.056,94.3,94.544,94.788,95.032,95.276,95.52,95.764,96.008,96.252,96.496,96.74,96.984,97.228,97.472,97.716,97.96,98.204,98.448,98.692,98.936,99.18,99.424,99.668,99.912,100.156,100.4,100.644,100.888,101.132,101.376,101.62,101.864,102.108,102.352,102.596,102.84,103.084,103.328,103.572,103.816,104.06,104.304,104.548,104.792,105.036,105.28,105.524,105.768,106.012,106.256,106.5,106.744,106.988,107.232,107.476,107.72,107.964,108.208,108.452,108.696,108.94,109.184,109.428,109.672,109.916,110.16,110.404,110.648,110.892,111.136,111.38,111.624,111.868,112.112,112.356,112.6,112.844,113.088,113.332,113.576,113.82,114.064,114.308,114.552,114.796,115.04,115.284,115.528,115.772,116.016,116.26,116.504,116.748,116.992,117.236,117.48,117.724,117.968,118.212,118.456,118.7,118.944,119.188,119.432,119.676,119.92,120.164,120.408,120.652,120.896,121.14,121.384,121.628,121.872,122.116,122.36,122.604,122.848,123.092,123.336,123.58,123.824,124.068,124.312,124.556,124.8,125.044,125.288,125.532,125.776,126.02,126.264,126.508,126.752,126.996,127.24,127.484,127.728,127.972,128.216,128.45999999999998,128.704,128.94799999999998,129.192,129.436,129.68,129.924,130.168,130.412,130.656,130.9,131.144,131.388,131.632,131.876,132.12,132.364,132.608,132.852,133.096,133.34,133.584,133.828,134.072,134.316,134.56,134.804,135.048,135.292,135.536,135.78,136.024,136.268,136.512,136.756],\"xaxis\":\"x\",\"y\":[0.005273604235236661,0.0053686088865978225,0.005462753222966654,0.005555963986811318,0.005648170348683038,0.00573930411053657,0.00582929990097038,0.005918095361557761,0.006005631323477727,0.006091851973694169,0.006176705009977206,0.006260141784108259,0.006342117432662901,0.006422590994820247,0.00650152551670548,0.00657888814183312,0.006654650187280621,0.006728787205286959,0.0068012790300365404,0.00687210980945595,0.006941268021919106,0.007008746477823964,0.007074542306072603,0.007138656925553974,0.007201096001795448,0.00726186938901494,0.0073209910578701885,0.007378479009263119,0.007434355174618908,0.007488645303115469,0.007541378836395611,0.007592588771344989,0.007642311511568457,0.0076905867082420094,0.007737457091059705,0.007782968290032074,0.00782716864892651,0.007870109031169756,0.007911842619057561,0.007952424707138249,0.007991912490652816,0.008030364849927606,0.00806784213162218,0.008104405927740862,0.00814011885331281,0.008175044323644123,0.00820924633203416,0.008242789228835793,0.008275737502724357,0.008308155565017314,0.008340107537864407,0.008371657047099853,0.008402867020518727,0.008433799492305405,0.008464515414305705,0.008495074474797287,0.008525534925369387,0.00855595341648239,0.008586384842231374,0.008616882194791377,0.008647496428975386,0.00867827633728535,0.008709268435787917,0.0087405168610957,0.008772063278683335,0.008803946802716825,0.008836203927523404,0.008868868470777494,0.008901971528428579,0.008935541441345556,0.008969603773603835,0.009004181302293206,0.00903929401867574,0.009074959140479621,0.009111191135068473,0.009148001753183501,0.009185400072915975,0.009223392553526518,0.009261983098692457,0.009301173128728685,0.00934096166129528,0.009381345400074556,0.009422318830873171,0.00946387432457863,0.009506002246378,0.00954869107062617,0.009591927500733514,0.009635696593429728,0.009679981886747091,0.009724765531059823,0.009770028422508893,0.00981575033813942,0.009861910072078189,0.009908485572080619,0.009955454075784237,0.010002792246012198,0.010050476304484288,0.010098482163305464,0.01014678555362019,0.010195362150840189,0.010244187695875998,0.010293238111827616,0.010342489615616745,0.010391918824073403,0.010441502854021015,0.010491219415938774,0.010541046900815813,0.010590964459849066,0.010640952076677337,0.010690990631883236,0.010741061959538743,0.010791148895611407,0.010841235318094581,0.010891306178767018,0.010941347526535828,0.010991346522359067,0.011041291445791915,0.011091171693245073,0.011140977768088155,0.011190701262776194,0.011240334833219434,0.011289872165659801,0.011339307936356442,0.011388637764423677,0.011437858158199591,0.011486966455560708,0.011535960758628455,0.01158483986334578,0.011633603184427112,0.011682250676210988,0.01173078274996613,0.011779200188217917,0.011827504056679941,0.011875695614383277,0.011923776222606828,0.011971747253213415,0.012019609996998479,0.012067365572653222,0.012115014836937641,0.012162558296647023,0.012209996022941478,0.012257327568588024,0.012304551888644545,0.012351667265087749,0.012398671235858657,0.012445560528767916,0.012492331000666913,0.012538977582253847,0.01258549422884251,0.012631873877380627,0.012678108409957603,0.012724188623997981,0.012770104209286565,0.012815843731925281,0.012861394625269732,0.012906743187845663,0.01295187458819543,0.012996772876554426,0.013041421003209736,0.013085800843345933,0.013129893228135375,0.01317367798178897,0.013217133964238476,0.013260239119083625,0.013302970526400469,0.013345304459973567,0.013387216448484038,0.013428681340160393,0.01346967337037457,0.013510166231649228,0.01355013314552581,0.013589546935735143,0.013628380102105533,0.013666604894643246,0.013704193387223777,0.013741117550340805,0.013777349322372597,0.013812860678843663,0.013847623699179728,0.013881610630482318,0.01391479394787646,0.013947146411021816,0.013978641116411814,0.014009251545128162,0.014038951605759757,0.0140677156722424,0.014095518616422264,0.014122335835196663,0.014148143272137285,0.014172917433551618,0.014196635398992206,0.014219274826275424,0.014240813951123012,0.014261231581591594,0.014280507087505081,0.014298620385152293,0.014315551917558894,0.014331282630685562,0.014345793945944197,0.014359067729461647,0.014371086258553094,0.014381832185896028,0.014391288501921508,0.014399438495958872,0.01440626571668605,0.01441175393244805,0.014415887092012504,0.014418649286330526,0.014420024711868071,0.014419997636062403,0.01441855236544404,0.014415673216945004,0.014411344492889647,0.01440555046013625,0.014398275333803084,0.014389503265976886,0.014379218339759406,0.014367404568964189,0.014354045903727769,0.014339126242249567,0.014322629448822594,0.014304539378263216,0.01428483990679191,0.014263514969362238,0.014240548603377711,0.014215924998679793,0.014189628553635371,0.014161643937096012,0.014131956155949204,0.014100550627930118,0.014067413259312935,0.01403253052705635,0.01399588956493297,0.013957478253134762,0.013917285310809782,0.013875300390955372,0.01383151417706446,0.013785918480900343,0.013738506340757201,0.013689272119550235,0.013638211602071775,0.013585322090746877,0.013530602499222723,0.01347405344313449,0.013415677327400372,0.01335547842941588,0.0132934629775375,0.013229639224271516,0.013164017513612156,0.013096610342006964,0.013027432412462972,0.012956500681347561,0.012883834397479636,0.01280945513315255,0.012733386806776477,0.012655655696877408,0.01257629044723962,0.01249532206303062,0.012412783897797867,0.012328711631280166,0.012243143238027407,0.012156118946874303,0.012067681191363635,0.011977874551264873,0.011886745685380451,0.01179434325587933,0.011700717844440642,0.011605921860531863,0.011510009442186019,0.011413036349677576,0.011315059852531336,0.011216138610329177,0.011116332547806295,0.011015702724754071,0.01091431120126694,0.010812220898889502,0.010709495458233874,0.010606199093649628,0.0105023964455369,0.010398152430897804,0.01029353209272493,0.010188600448823675,0.010083422340662968,0.009978062282841847,0.009872584313751763,0.009767051848002778,0.009661527531169077,0.009556073097393768,0.009450749230375945,0.009345615428244053,0.00924072987279876,0.009136149303587155,0.00903192889724623,0.008928122152529413,0.008824780781404369,0.008721954606583994,0.00861969146582476,0.008518037123299703,0.008417035188323577,0.008316727041679827,0.008217151769768912,0.008118346106768266,0.008020344384963672,0.007923178493382432,0.007826877844827558,0.007731469351382538,0.007636977408425388,0.007543423887160632,0.007450828135647453,0.007359206988272,0.007268574783582222,0.007178943390373432,0.0070903222418837826,0.007002718377929429,0.0069161364947807604,0.006830579002552716,0.00674604608985466,0.0066625357954184575,0.006580044086396816,0.0064985649429990106,0.006418090449106193,0.006338610888485329,0.006260114846198284,0.006182589314781733,0.006106019804753466,0.006030390458982989,0.005955684170447051,0.005881882702876486,0.005808966813787051,0.005736916379376323,0.005665710520759394,0.005595327731009235,0.005525746002463162,0.005456942953754165,0.005388895956026544,0.0053215822577973365,0.0052549791079307875,0.005189063876200287,0.005123814170923112,0.005059207953165747,0.0049952236470336055,0.00493184024557658,0.004869037411862962,0.004806795574796865,0.004745096019280132,0.004683920970346964,0.004623253670929619,0.004563078452945107,0.0045033808014263545,0.004444147411456754,0.004385366237703356,0.004327026536382174,0.004269118899527802,0.004211635281479398,0.004154569017535261,0.004097914834768988,0.004041668855040702,0.0039858285902774,0.003930392930136504,0.003875362122205974,0.0038207377449328028,0.00376652267350877,0.003712721038978288,0.0036593381808670018,0.003606380593662328,0.003553855867506949,0.003501772623494474,0.0034501404439815607,0.003398969798353991,0.003348271964703985,0.003298058947893534,0.0032483433944926992,0.003199138505093241,0.0031504579445061423,0.0031023157503567078,0.003054726240593109,0.0030077039204230516,0.0029612633891893353,0.0029154192476879112,0.0028701860064221955,0.00282557799527453,0.002781609275060378,0.0027382935514127156,0.0026956440914238573,0.0026536736434491816,0.0026123943604527407,0.0025718177272480497,0.0025319544919593377,0.0024928146019988565,0.002454407144824989,0.0024167402937141226,0.0023798212587465184,0.0023436562431733386,0.0023082504052983157,0.0022736078259740413,0.002239731481779164,0.0022066232239096695,0.002174283762784577,0.002142712658334476,0.002111908315910077,0.002081867987718071,0.0020525877796625717,0.0020240626634431993,0.001996286493734788,0.0019692520302495254,0.001942950964459861,0.0019173739507397929,0.001892510641663517,0.0018683497271836556,0.0018448789773966524,0.0018220852885903367,0.0017999547322582155,0.0017784726067566446,0.0017576234912748592,0.0017373913017836517,0.0017177593486263727,0.0016987103954159018,0.0016802267189030536,0.0016622901694857044,0.0016448822320334624,0.00162798408671009,0.0016115766694847823,0.0015956407320339887,0.0015801569007473481,0.0015651057345646626,0.00155046778138525,0.0015362236328067041,0.0015223539769665556,0.0015088396492778607,0.0014956616808678128,0.001482801344547255,0.0014702401981582427,0.001457960125166323,0.0014459433723841004,0.0014341725847325183,0.0014226308369662778,0.0014113016623095711,0.0014001690779679205,0.0013892176075011255,0.0013784323000611304,0.0013677987465168574,0.0013573030925057145,0.0013469320484683278,0.001336672896739223,0.001326513495781332,0.0013164422816665461,0.0013064482669177754,0.0012965210368401773,0.0012866507434803644,0.0012768280973622771,0.001267044357157236,0.001257291317453163,0.0012475612947943256,0.0012378471121679581,0.0012281420821179602,0.0012184399886683804,0.001208735068240724,0.0011990219897491607,0.0011892958340566102,0.0011795520729723252,0.0011697865479681627,0.0011599954487861738,0.0011501752921045142,0.0011403229004221045,0.0011304353813148898,0.0011205101072081875,0.0011105446958003206,0.0011005369912629151,0.0010904850463324903,0.0010803871053970088,0.0010702415886692232,0.001060047077526804,0.0010498023010867801,0.0010395061240693357,0.0010291575359933323,0.0010187556417332096,0.0010082996534543092,0.000997788883931137,0.0009872227412408682,0.0009766007248124316,0.000965922422800015,0.000955187510738755,0.0009443957514299318,0.0009335469959930821,0.0009226411860133238,0.0009116783567037269,0.000900658640994989,0.0008895822744578852,0.0008784496009580932,0.0008672610789380569,0.000856017288216513,0.0008447189371933023,0.0008333668703449688,0.000821962075895604,0.0008105056935472176,0.0007989990221547986,0.0007874435272329419,0.0007758408481836471,0.0007641928051383926,0.0007525014053120229],\"yaxis\":\"y\",\"type\":\"scatter\",\"fill\":\"tozeroy\",\"hovertemplate\":\"\\u003cb\\u003eReal\\u003c\\u002fb\\u003e\\u003cbr\\u003eFrequency: %{y}\\u003cextra\\u003e\\u003c\\u002fextra\\u003e\"},{\"legendgroup\":\"Synthetic\",\"marker\":{\"color\":\"#01E0C9\"},\"mode\":\"lines\",\"name\":\"Synthetic\",\"showlegend\":true,\"x\":[15.0,15.244,15.488,15.732,15.975999999999999,16.22,16.464,16.708,16.951999999999998,17.196,17.44,17.684,17.928,18.172,18.416,18.66,18.904,19.148,19.392,19.636,19.88,20.124,20.368000000000002,20.612000000000002,20.856,21.1,21.344,21.588,21.832,22.076,22.32,22.564,22.808,23.052,23.296,23.54,23.784,24.028,24.272,24.516,24.759999999999998,25.003999999999998,25.247999999999998,25.492,25.736,25.98,26.224,26.468,26.712,26.956,27.2,27.444000000000003,27.688000000000002,27.932000000000002,28.176000000000002,28.42,28.664,28.908,29.152,29.396,29.64,29.884,30.128,30.372,30.616,30.86,31.104,31.348,31.592,31.836,32.08,32.324,32.568,32.812,33.056,33.3,33.544,33.788,34.032,34.275999999999996,34.519999999999996,34.763999999999996,35.007999999999996,35.251999999999995,35.495999999999995,35.739999999999995,35.984,36.228,36.472,36.716,36.96,37.204,37.448,37.692,37.936,38.18,38.424,38.668,38.912,39.156,39.4,39.644,39.888000000000005,40.132000000000005,40.376000000000005,40.620000000000005,40.864000000000004,41.108000000000004,41.352000000000004,41.596000000000004,41.84,42.084,42.328,42.572,42.816,43.06,43.304,43.548,43.792,44.036,44.28,44.524,44.768,45.012,45.256,45.5,45.744,45.988,46.232,46.476,46.72,46.964,47.208,47.452,47.696,47.94,48.184,48.428,48.672,48.916,49.16,49.404,49.648,49.892,50.136,50.38,50.624,50.868,51.112,51.356,51.6,51.844,52.088,52.332,52.576,52.82,53.064,53.308,53.552,53.796,54.04,54.284,54.528,54.772,55.016,55.26,55.504,55.748,55.992,56.236,56.48,56.724,56.968,57.212,57.456,57.7,57.944,58.188,58.432,58.676,58.92,59.164,59.408,59.652,59.896,60.14,60.384,60.628,60.872,61.116,61.36,61.604,61.848,62.092,62.336,62.58,62.824,63.068,63.312,63.556,63.8,64.044,64.288,64.532,64.77600000000001,65.02000000000001,65.26400000000001,65.50800000000001,65.75200000000001,65.99600000000001,66.24000000000001,66.48400000000001,66.72800000000001,66.97200000000001,67.21600000000001,67.46000000000001,67.70400000000001,67.94800000000001,68.19200000000001,68.436,68.68,68.924,69.168,69.412,69.656,69.9,70.144,70.388,70.632,70.876,71.12,71.364,71.608,71.852,72.096,72.34,72.584,72.828,73.072,73.316,73.56,73.804,74.048,74.292,74.536,74.78,75.024,75.268,75.512,75.756,76.0,76.244,76.488,76.732,76.976,77.22,77.464,77.708,77.952,78.196,78.44,78.684,78.928,79.172,79.416,79.66,79.904,80.148,80.392,80.636,80.88,81.124,81.368,81.612,81.856,82.1,82.344,82.588,82.832,83.076,83.32,83.564,83.808,84.052,84.296,84.54,84.784,85.028,85.272,85.516,85.76,86.004,86.248,86.492,86.736,86.98,87.224,87.468,87.712,87.956,88.2,88.444,88.688,88.932,89.176,89.42,89.664,89.908,90.152,90.396,90.64,90.884,91.128,91.372,91.616,91.86,92.104,92.348,92.592,92.836,93.08,93.324,93.568,93.812,94.056,94.3,94.544,94.788,95.032,95.276,95.52,95.764,96.008,96.252,96.496,96.74,96.984,97.228,97.472,97.716,97.96,98.204,98.448,98.692,98.936,99.18,99.424,99.668,99.912,100.156,100.4,100.644,100.888,101.132,101.376,101.62,101.864,102.108,102.352,102.596,102.84,103.084,103.328,103.572,103.816,104.06,104.304,104.548,104.792,105.036,105.28,105.524,105.768,106.012,106.256,106.5,106.744,106.988,107.232,107.476,107.72,107.964,108.208,108.452,108.696,108.94,109.184,109.428,109.672,109.916,110.16,110.404,110.648,110.892,111.136,111.38,111.624,111.868,112.112,112.356,112.6,112.844,113.088,113.332,113.576,113.82,114.064,114.308,114.552,114.796,115.04,115.284,115.528,115.772,116.016,116.26,116.504,116.748,116.992,117.236,117.48,117.724,117.968,118.212,118.456,118.7,118.944,119.188,119.432,119.676,119.92,120.164,120.408,120.652,120.896,121.14,121.384,121.628,121.872,122.116,122.36,122.604,122.848,123.092,123.336,123.58,123.824,124.068,124.312,124.556,124.8,125.044,125.288,125.532,125.776,126.02,126.264,126.508,126.752,126.996,127.24,127.484,127.728,127.972,128.216,128.45999999999998,128.704,128.94799999999998,129.192,129.436,129.68,129.924,130.168,130.412,130.656,130.9,131.144,131.388,131.632,131.876,132.12,132.364,132.608,132.852,133.096,133.34,133.584,133.828,134.072,134.316,134.56,134.804,135.048,135.292,135.536,135.78,136.024,136.268,136.512,136.756],\"xaxis\":\"x\",\"y\":[0.0039010222597470165,0.004257441570399908,0.004602066377206174,0.004931536389738859,0.005243622354854607,0.0055372085004502716,0.005812181053842654,0.006069247570296458,0.006309717287738394,0.006535273000387168,0.006747760683024171,0.006949015710720392,0.007140735773086155,0.007324402192080282,0.007501244641006957,0.007672239973595665,0.007838134140399989,0.007999476625093586,0.008156658798731776,0.008309950287647583,0.008459530186895926,0.008605512227314625,0.00874796455877474,0.008886925596281844,0.009022417495688781,0.009154458471101318,0.009283074549732505,0.00940831067330292,0.009530240453674151,0.009648973484652575,0.009764658968561758,0.009877484566027142,0.009987669807286994,0.010095454058774411,0.010201079825251912,0.010304772957262889,0.010406721985982933,0.010507059188686062,0.010605846009256096,0.010703065080383139,0.010798620357697866,0.010892345877263475,0.010984022536929452,0.011073401242958856,0.011160229909396153,0.011244281271201908,0.011325378333185055,0.011403414542218236,0.011478366393608379,0.011550297084276002,0.011619350896305261,0.011685739108604291,0.011749719261291109,0.0118115704147299,0.011871567540787144,0.01192995828639477,0.011986945018341964,0.012042674322499763,0.012097235068725336,0.012150664909348137,0.01220296383183552,0.012254112334069995,0.012304091103077924,0.012352898880389809,0.012400565529362488,0.01244715813203435,0.012492779107218868,0.012537556654122515,0.012581629073403733,0.01262512548514681,0.012668145998663692,0.01271074441392313,0.012752916063552217,0.01279459253875998,0.012835643946102432,0.012875888211488044,0.01291510597165843,0.01295305892342022,0.012989509219380847,0.013024237620270468,0.013057058569911179,0.013087831041656358,0.013116464764784072,0.01314292213938051,0.013167216667165374,0.013189409001300624,0.013209601723736381,0.013227933735243853,0.013244574761407654,0.013259720035156438,0.01327358482092374,0.0132863981850068,0.013298395359605914,0.013309808216142336,0.013320853738317803,0.01333172090030646,0.013342556912497007,0.01335345428021857,0.013364440410890162,0.01337547152539329,0.013386432333974163,0.01339714235202925,0.013407368935170982,0.013416846228604591,0.013425298403131822,0.01343246492004305,0.013438125241437312,0.013442120423125588,0.013444369388915243,0.013444878317990865,0.013443742379283091,0.013441139893180746,0.013437319777588178,0.01343258374883267,0.013427265141600366,0.013421706365371676,0.013416236944271296,0.013411153832627927,0.013406705311907354,0.013403079322178466,0.013400396611319799,0.013398708651420605,0.013397999907212787,0.013398193767195865,0.013399161276730794,0.013400731740666758,0.013402704280542964,0.013404859520552887,0.013406970715003528,0.013408813794895278,0.013410175979402103,0.013410862751254948,0.013410703119855419,0.013409553186330105,0.013407298082013613,0.013403852382280057,0.01339915911654349,0.013393187516684198,0.013385929680719182,0.013377396389946963,0.01336761239576589,0.013356611579698368,0.013344432459986486,0.013331114540540456,0.01331669594692484,0.013301212651851756,0.01328469936283529,0.013267191854204942,0.013248730227928694,0.01322936234604346,0.01320914656220436,0.013188152936689701,0.013166462369223782,0.013144163490050383,0.013121347645830447,0.013098102789732197,0.013074507423218262,0.013050625842335458,0.013026505763454883,0.013002178962528955,0.012977664932484773,0.012952976888048992,0.0129281288762624,0.012903142424607451,0.012878051165501628,0.012852902224949123,0.012827753787593108,0.012802669013655033,0.012777707224572896,0.012752913832684962,0.012728310758871599,0.012703889018670115,0.012679604791791378,0.012655379722954456,0.012631105550577093,0.012606652557586672,0.012581880875732986,0.012556653407333444,0.012530849050629867,0.012504374997260122,0.012477177049441273,0.012449247128571043,0.012420627374333021,0.012391410450515075,0.012361735886377795,0.012331782510417687,0.012301757293888214,0.012271881218352541,0.012242373095948996,0.012213432559678784,0.012185223651306951,0.012157860501369747,0.012131396485453303,0.012105817932477052,0.012081042985246468,0.012056925633820268,0.012033264347907694,0.012009814230954086,0.01198630128891609,0.011962437311353106,0.011937934005828592,0.011912515373294859,0.011885927775462463,0.011857947629141012,0.011828387058220414,0.011797098069667791,0.011763975854160691,0.011728961657794114,0.011692045382966388,0.011653267736449969,0.011612721444443317,0.01157055088040795,0.011526949444767072,0.01148215421249031,0.011436437682867612,0.011390096865426214,0.011343440331607809,0.011296774172882643,0.01125038797645687,0.011204541928690467,0.011159455996506086,0.011115301853417407,0.011072197871643954,0.011030207156166679,0.010989338307284878,0.010949548402250986,0.010910747600694895,0.010872804800420384,0.010835553877209428,0.010798800210412051,0.010762327386627253,0.010725904153050676,0.010689291822666059,0.010652252384197518,0.010614557513847647,0.010575998515813966,0.010536396943059299,0.01049561530868034,0.010453566953638875,0.010410223870736408,0.010365621181343897,0.010319857085429436,0.010273087485015058,0.010225515091034627,0.010177373580887963,0.010128908157477226,0.010080354518989249,0.01003191865051789,0.00998375989777713,0.009935979446981609,0.009888615659327322,0.009841646797030415,0.009795000682279186,0.009748569912390117,0.00970223055498308,0.00965586186529009,0.009609364541918654,0.009562675346900747,0.00951577649393871,0.009468698953403666,0.009421519624202623,0.009374353074468563,0.0093273391644003,0.009280628274879462,0.009234366035641931,0.009188679372657703,0.009143665396882253,0.009099384183785487,0.00905585591421869,0.009013062244980668,0.008970951234804417,0.008929444743464984,0.00888844699775435,0.008847853000307035,0.008807555631292359,0.008767450621197806,0.008727438994621476,0.00868742703600281,0.008647324247507433,0.008607040106574959,0.00856648064914076,0.008525545980980867,0.008484129741222481,0.0084421213058676,0.008399411139412286,0.008355899208526146,0.00831150582017145,0.008266183711771898,0.008219929798978107,0.008172794765491117,0.008124888731380606,0.008076381586269785,0.008027497194071039,0.00797850147716416,0.007929685239443637,0.007881343340010684,0.007833752347558122,0.007787149001658066,0.007741711657754429,0.007697546442881548,0.007654679201429135,0.007613053591824217,0.0075725350371466695,0.007532919727576864,0.007493947572416592,0.0074553178972323235,0.007416706734452176,0.007377784691246003,0.007338234530597598,0.0072977677151265475,0.007256139219172357,0.007213159922745721,0.0071687058968163105,0.007122723921523852,0.00707523269205338,0.007026319387434693,0.00697613160750264,0.0069248650932247505,0.006872748083571901,0.006820023561917332,0.0067669309384066146,0.006713688849063025,0.006660480695067489,0.006607444293120399,0.00655466658689881,0.006502183827235978,0.006449987030986084,0.006398031947861613,0.006346252270568948,0.006294574480157589,0.006242932568085005,0.006191280944252224,0.006139604119647761,0.006087922210668283,0.006036291887571107,0.005984802999987042,0.005933571665912896,0.005882731021942076,0.005832421036367151,0.005782778754169513,0.005733930085726063,0.005685983822235664,0.005639028046232544,0.005593128606289594,0.005548328941299185,0.0055046503476731115,0.00546209182264824,0.005420628882165714,0.005380211187909445,0.005340759333434349,0.005302161619082448,0.005264271974969604,0.00522691027950804,0.0051898661229275835,0.005152906592989624,0.0051157879892418014,0.005078270626977533,0.00504013522397404,0.005001198919130764,0.004961328859375782,0.004920451552419075,0.004878556781281789,0.004835695699967162,0.004791973616252274,0.004747538737305438,0.004702568653443963,0.004657256472692063,0.0046117982838449695,0.00456638309361663,0.004521185693850882,0.004476362237642592,0.0044320477950999205,0.00438835492778875,0.004345372395942641,0.004303163446106075,0.004261763605587688,0.004221178389215574,0.004181381664821737,0.0041423155315840985,0.004103892410454718,0.004065999670545155,0.004028506618986441,0.003991273193211045,0.003954159336549376,0.003917033896475596,0.0038797819871156866,0.0038423100701916214,0.0038045484468835836,0.0037664513086933093,0.0037279948633579026,0.0036891742589218886,0.003650000048597034,0.0036104947945877174,0.0035706901630874464,0.0035306245952390117,0.003490341426474412,0.0034498872188917316,0.0034093100836929593,0.00336865788056782,0.003327976341003241,0.0032873073140235907,0.003246687425288063,0.003206147443245962,0.003165712556478017,0.0031254036070420357,0.003085239136395621,0.003045237928922064,0.003005421623014199,0.0029658169249131747,0.002926457010183625,0.0028873818177282792,0.0028486371043692947,0.002810272302325896,0.002772337378136735,0.0027348790097006304,0.002697936469345849,0.0026615376273488815,0.0026256954811778883,0.0025904055818198163,0.0025556446777937085,0.0025213708316415527,0.002487525178553088,0.002454035384478011,0.002420820715676232,0.002387798454549198,0.002354891200538389,0.002322034405673176,0.0022891833471456037,0.002256318672344594,0.0022234496965801904,0.0021906148059273964,0.0021578786104172834,0.00212532587455492,0.0020930526709917762,0.002061155595242229,0.002029720181805102,0.0019988098245983924,0.0019684564997933377,0.0019386544162754296,0.0019093574034387197,0.0018804804331093074,0.001851905218034697,0.0018234893903525055,0.0017950783894877293,0.0017665189165500448,0.0017376726633108687,0.001708429005128608,0.0016787154532185889,0.0016485048770734287,0.0016178188100319862,0.0015867265125049932,0.0015553398574611934,0.0015238044888441985,0.001492288052906496,0.0014609665836869607,0.0014300103093658851,0.0013995702146269526,0.001369766632991294,0.0013406809515504685,0.0013123512014546134,0.0012847719079920638,0.0012578981242840636,0.001231653122274473,0.001205938817666417,0.001180647712407367,0.001155674989652823,0.0011309294150004656,0.0011063418861175867,0.00108187080988821,0.0010575039304062007,0.0010332567255945814,0.0010091679698223796,0.0009852934598043744,0.0009616991652554606,0.0009384551537529298,0.0009156315311627133,0.0008932973373552119,0.0008715228663970842,0.0008503852850864709,0.0008299767636382864,0.0008104136802295078,0.0007918448990914249,0.0007744567388067822,0.0007584721344116316,0.0007441417387754189,0.00073172537008438,0.0007214633167657167,0.0007135385172679601,0.0007080324111132807,0.0007048790833360642,0.0007038238839521261,0.0007043936364117135,0.0007058855115555086,0.0007073803973326403,0.0007077840889832655,0.0007058960581871312,0.0007005013929893602,0.0006904774038741952,0.0006749031327627796,0.0006531582880256003],\"yaxis\":\"y\",\"type\":\"scatter\",\"fill\":\"tozeroy\",\"hovertemplate\":\"\\u003cb\\u003eSynthetic\\u003c\\u002fb\\u003e\\u003cbr\\u003eFrequency: %{y}\\u003cextra\\u003e\\u003c\\u002fextra\\u003e\"}],                        {\"barmode\":\"overlay\",\"hovermode\":\"closest\",\"legend\":{\"traceorder\":\"reversed\"},\"xaxis\":{\"anchor\":\"y2\",\"domain\":[0.0,1.0],\"zeroline\":false,\"title\":{\"text\":\"Value\"}},\"yaxis\":{\"anchor\":\"free\",\"domain\":[0.0,1],\"position\":0.0,\"title\":{\"text\":\"Frequency\"}},\"template\":{\"data\":{\"histogram2dcontour\":[{\"type\":\"histogram2dcontour\",\"colorbar\":{\"outlinewidth\":0,\"ticks\":\"\"},\"colorscale\":[[0.0,\"#0d0887\"],[0.1111111111111111,\"#46039f\"],[0.2222222222222222,\"#7201a8\"],[0.3333333333333333,\"#9c179e\"],[0.4444444444444444,\"#bd3786\"],[0.5555555555555556,\"#d8576b\"],[0.6666666666666666,\"#ed7953\"],[0.7777777777777778,\"#fb9f3a\"],[0.8888888888888888,\"#fdca26\"],[1.0,\"#f0f921\"]]}],\"choropleth\":[{\"type\":\"choropleth\",\"colorbar\":{\"outlinewidth\":0,\"ticks\":\"\"}}],\"histogram2d\":[{\"type\":\"histogram2d\",\"colorbar\":{\"outlinewidth\":0,\"ticks\":\"\"},\"colorscale\":[[0.0,\"#0d0887\"],[0.1111111111111111,\"#46039f\"],[0.2222222222222222,\"#7201a8\"],[0.3333333333333333,\"#9c179e\"],[0.4444444444444444,\"#bd3786\"],[0.5555555555555556,\"#d8576b\"],[0.6666666666666666,\"#ed7953\"],[0.7777777777777778,\"#fb9f3a\"],[0.8888888888888888,\"#fdca26\"],[1.0,\"#f0f921\"]]}],\"heatmap\":[{\"type\":\"heatmap\",\"colorbar\":{\"outlinewidth\":0,\"ticks\":\"\"},\"colorscale\":[[0.0,\"#0d0887\"],[0.1111111111111111,\"#46039f\"],[0.2222222222222222,\"#7201a8\"],[0.3333333333333333,\"#9c179e\"],[0.4444444444444444,\"#bd3786\"],[0.5555555555555556,\"#d8576b\"],[0.6666666666666666,\"#ed7953\"],[0.7777777777777778,\"#fb9f3a\"],[0.8888888888888888,\"#fdca26\"],[1.0,\"#f0f921\"]]}],\"heatmapgl\":[{\"type\":\"heatmapgl\",\"colorbar\":{\"outlinewidth\":0,\"ticks\":\"\"},\"colorscale\":[[0.0,\"#0d0887\"],[0.1111111111111111,\"#46039f\"],[0.2222222222222222,\"#7201a8\"],[0.3333333333333333,\"#9c179e\"],[0.4444444444444444,\"#bd3786\"],[0.5555555555555556,\"#d8576b\"],[0.6666666666666666,\"#ed7953\"],[0.7777777777777778,\"#fb9f3a\"],[0.8888888888888888,\"#fdca26\"],[1.0,\"#f0f921\"]]}],\"contourcarpet\":[{\"type\":\"contourcarpet\",\"colorbar\":{\"outlinewidth\":0,\"ticks\":\"\"}}],\"contour\":[{\"type\":\"contour\",\"colorbar\":{\"outlinewidth\":0,\"ticks\":\"\"},\"colorscale\":[[0.0,\"#0d0887\"],[0.1111111111111111,\"#46039f\"],[0.2222222222222222,\"#7201a8\"],[0.3333333333333333,\"#9c179e\"],[0.4444444444444444,\"#bd3786\"],[0.5555555555555556,\"#d8576b\"],[0.6666666666666666,\"#ed7953\"],[0.7777777777777778,\"#fb9f3a\"],[0.8888888888888888,\"#fdca26\"],[1.0,\"#f0f921\"]]}],\"surface\":[{\"type\":\"surface\",\"colorbar\":{\"outlinewidth\":0,\"ticks\":\"\"},\"colorscale\":[[0.0,\"#0d0887\"],[0.1111111111111111,\"#46039f\"],[0.2222222222222222,\"#7201a8\"],[0.3333333333333333,\"#9c179e\"],[0.4444444444444444,\"#bd3786\"],[0.5555555555555556,\"#d8576b\"],[0.6666666666666666,\"#ed7953\"],[0.7777777777777778,\"#fb9f3a\"],[0.8888888888888888,\"#fdca26\"],[1.0,\"#f0f921\"]]}],\"mesh3d\":[{\"type\":\"mesh3d\",\"colorbar\":{\"outlinewidth\":0,\"ticks\":\"\"}}],\"scatter\":[{\"fillpattern\":{\"fillmode\":\"overlay\",\"size\":10,\"solidity\":0.2},\"type\":\"scatter\"}],\"parcoords\":[{\"type\":\"parcoords\",\"line\":{\"colorbar\":{\"outlinewidth\":0,\"ticks\":\"\"}}}],\"scatterpolargl\":[{\"type\":\"scatterpolargl\",\"marker\":{\"colorbar\":{\"outlinewidth\":0,\"ticks\":\"\"}}}],\"bar\":[{\"error_x\":{\"color\":\"#2a3f5f\"},\"error_y\":{\"color\":\"#2a3f5f\"},\"marker\":{\"line\":{\"color\":\"#E5ECF6\",\"width\":0.5},\"pattern\":{\"fillmode\":\"overlay\",\"size\":10,\"solidity\":0.2}},\"type\":\"bar\"}],\"scattergeo\":[{\"type\":\"scattergeo\",\"marker\":{\"colorbar\":{\"outlinewidth\":0,\"ticks\":\"\"}}}],\"scatterpolar\":[{\"type\":\"scatterpolar\",\"marker\":{\"colorbar\":{\"outlinewidth\":0,\"ticks\":\"\"}}}],\"histogram\":[{\"marker\":{\"pattern\":{\"fillmode\":\"overlay\",\"size\":10,\"solidity\":0.2}},\"type\":\"histogram\"}],\"scattergl\":[{\"type\":\"scattergl\",\"marker\":{\"colorbar\":{\"outlinewidth\":0,\"ticks\":\"\"}}}],\"scatter3d\":[{\"type\":\"scatter3d\",\"line\":{\"colorbar\":{\"outlinewidth\":0,\"ticks\":\"\"}},\"marker\":{\"colorbar\":{\"outlinewidth\":0,\"ticks\":\"\"}}}],\"scattermapbox\":[{\"type\":\"scattermapbox\",\"marker\":{\"colorbar\":{\"outlinewidth\":0,\"ticks\":\"\"}}}],\"scatterternary\":[{\"type\":\"scatterternary\",\"marker\":{\"colorbar\":{\"outlinewidth\":0,\"ticks\":\"\"}}}],\"scattercarpet\":[{\"type\":\"scattercarpet\",\"marker\":{\"colorbar\":{\"outlinewidth\":0,\"ticks\":\"\"}}}],\"carpet\":[{\"aaxis\":{\"endlinecolor\":\"#2a3f5f\",\"gridcolor\":\"white\",\"linecolor\":\"white\",\"minorgridcolor\":\"white\",\"startlinecolor\":\"#2a3f5f\"},\"baxis\":{\"endlinecolor\":\"#2a3f5f\",\"gridcolor\":\"white\",\"linecolor\":\"white\",\"minorgridcolor\":\"white\",\"startlinecolor\":\"#2a3f5f\"},\"type\":\"carpet\"}],\"table\":[{\"cells\":{\"fill\":{\"color\":\"#EBF0F8\"},\"line\":{\"color\":\"white\"}},\"header\":{\"fill\":{\"color\":\"#C8D4E3\"},\"line\":{\"color\":\"white\"}},\"type\":\"table\"}],\"barpolar\":[{\"marker\":{\"line\":{\"color\":\"#E5ECF6\",\"width\":0.5},\"pattern\":{\"fillmode\":\"overlay\",\"size\":10,\"solidity\":0.2}},\"type\":\"barpolar\"}],\"pie\":[{\"automargin\":true,\"type\":\"pie\"}]},\"layout\":{\"autotypenumbers\":\"strict\",\"colorway\":[\"#636efa\",\"#EF553B\",\"#00cc96\",\"#ab63fa\",\"#FFA15A\",\"#19d3f3\",\"#FF6692\",\"#B6E880\",\"#FF97FF\",\"#FECB52\"],\"font\":{\"color\":\"#2a3f5f\"},\"hovermode\":\"closest\",\"hoverlabel\":{\"align\":\"left\"},\"paper_bgcolor\":\"white\",\"plot_bgcolor\":\"#E5ECF6\",\"polar\":{\"bgcolor\":\"#E5ECF6\",\"angularaxis\":{\"gridcolor\":\"white\",\"linecolor\":\"white\",\"ticks\":\"\"},\"radialaxis\":{\"gridcolor\":\"white\",\"linecolor\":\"white\",\"ticks\":\"\"}},\"ternary\":{\"bgcolor\":\"#E5ECF6\",\"aaxis\":{\"gridcolor\":\"white\",\"linecolor\":\"white\",\"ticks\":\"\"},\"baxis\":{\"gridcolor\":\"white\",\"linecolor\":\"white\",\"ticks\":\"\"},\"caxis\":{\"gridcolor\":\"white\",\"linecolor\":\"white\",\"ticks\":\"\"}},\"coloraxis\":{\"colorbar\":{\"outlinewidth\":0,\"ticks\":\"\"}},\"colorscale\":{\"sequential\":[[0.0,\"#0d0887\"],[0.1111111111111111,\"#46039f\"],[0.2222222222222222,\"#7201a8\"],[0.3333333333333333,\"#9c179e\"],[0.4444444444444444,\"#bd3786\"],[0.5555555555555556,\"#d8576b\"],[0.6666666666666666,\"#ed7953\"],[0.7777777777777778,\"#fb9f3a\"],[0.8888888888888888,\"#fdca26\"],[1.0,\"#f0f921\"]],\"sequentialminus\":[[0.0,\"#0d0887\"],[0.1111111111111111,\"#46039f\"],[0.2222222222222222,\"#7201a8\"],[0.3333333333333333,\"#9c179e\"],[0.4444444444444444,\"#bd3786\"],[0.5555555555555556,\"#d8576b\"],[0.6666666666666666,\"#ed7953\"],[0.7777777777777778,\"#fb9f3a\"],[0.8888888888888888,\"#fdca26\"],[1.0,\"#f0f921\"]],\"diverging\":[[0,\"#8e0152\"],[0.1,\"#c51b7d\"],[0.2,\"#de77ae\"],[0.3,\"#f1b6da\"],[0.4,\"#fde0ef\"],[0.5,\"#f7f7f7\"],[0.6,\"#e6f5d0\"],[0.7,\"#b8e186\"],[0.8,\"#7fbc41\"],[0.9,\"#4d9221\"],[1,\"#276419\"]]},\"xaxis\":{\"gridcolor\":\"white\",\"linecolor\":\"white\",\"ticks\":\"\",\"title\":{\"standoff\":15},\"zerolinecolor\":\"white\",\"automargin\":true,\"zerolinewidth\":2},\"yaxis\":{\"gridcolor\":\"white\",\"linecolor\":\"white\",\"ticks\":\"\",\"title\":{\"standoff\":15},\"zerolinecolor\":\"white\",\"automargin\":true,\"zerolinewidth\":2},\"scene\":{\"xaxis\":{\"backgroundcolor\":\"#E5ECF6\",\"gridcolor\":\"white\",\"linecolor\":\"white\",\"showbackground\":true,\"ticks\":\"\",\"zerolinecolor\":\"white\",\"gridwidth\":2},\"yaxis\":{\"backgroundcolor\":\"#E5ECF6\",\"gridcolor\":\"white\",\"linecolor\":\"white\",\"showbackground\":true,\"ticks\":\"\",\"zerolinecolor\":\"white\",\"gridwidth\":2},\"zaxis\":{\"backgroundcolor\":\"#E5ECF6\",\"gridcolor\":\"white\",\"linecolor\":\"white\",\"showbackground\":true,\"ticks\":\"\",\"zerolinecolor\":\"white\",\"gridwidth\":2}},\"shapedefaults\":{\"line\":{\"color\":\"#2a3f5f\"}},\"annotationdefaults\":{\"arrowcolor\":\"#2a3f5f\",\"arrowhead\":0,\"arrowwidth\":1},\"geo\":{\"bgcolor\":\"white\",\"landcolor\":\"#E5ECF6\",\"subunitcolor\":\"white\",\"showland\":true,\"showlakes\":true,\"lakecolor\":\"white\"},\"title\":{\"x\":0.05},\"mapbox\":{\"style\":\"light\"}}},\"font\":{\"size\":18},\"title\":{\"text\":\"Real vs. Synthetic Data for column 'Annual Income (k$)'\"},\"plot_bgcolor\":\"#F5F5F8\"},                        {\"responsive\": true}                    ).then(function(){\n",
              "                            \n",
              "var gd = document.getElementById('5c4050e6-59fd-4b6e-b576-84331fe93ef2');\n",
              "var x = new MutationObserver(function (mutations, observer) {{\n",
              "        var display = window.getComputedStyle(gd).display;\n",
              "        if (!display || display === 'none') {{\n",
              "            console.log([gd, 'removed!']);\n",
              "            Plotly.purge(gd);\n",
              "            observer.disconnect();\n",
              "        }}\n",
              "}});\n",
              "\n",
              "// Listen for the removal of the full notebook cells\n",
              "var notebookContainer = gd.closest('#notebook-container');\n",
              "if (notebookContainer) {{\n",
              "    x.observe(notebookContainer, {childList: true});\n",
              "}}\n",
              "\n",
              "// Listen for the clearing of the current output cell\n",
              "var outputEl = gd.closest('.output');\n",
              "if (outputEl) {{\n",
              "    x.observe(outputEl, {childList: true});\n",
              "}}\n",
              "\n",
              "                        })                };                            </script>        </div>\n",
              "</body>\n",
              "</html>"
            ]
          },
          "metadata": {}
        }
      ]
    },
    {
      "cell_type": "code",
      "source": [
        "synthetic_data.head(3000)"
      ],
      "metadata": {
        "colab": {
          "base_uri": "https://localhost:8080/",
          "height": 423
        },
        "id": "NYvFHAntbZiM",
        "outputId": "232c8c53-0b8e-479d-82bd-a983cf777e20"
      },
      "execution_count": 41,
      "outputs": [
        {
          "output_type": "execute_result",
          "data": {
            "text/plain": [
              "      CustomerID   Genre  Age  Annual Income (k$)  Spending Score (1-100)\n",
              "0       96858303  Female   34                 100                      83\n",
              "1      409140672    Male   40                  27                      61\n",
              "2      913920895  Female   43                 120                      48\n",
              "3      145640776    Male   39                  58                      54\n",
              "4      277842049  Female   43                 100                      10\n",
              "...          ...     ...  ...                 ...                     ...\n",
              "2995   421846701    Male   35                  63                      92\n",
              "2996   864831677  Female   56                  48                      17\n",
              "2997   488060692  Female   18                  66                      40\n",
              "2998   660383726  Female   36                  34                      74\n",
              "2999   270698392  Female   41                 108                      12\n",
              "\n",
              "[3000 rows x 5 columns]"
            ],
            "text/html": [
              "\n",
              "  <div id=\"df-1fec88f0-1be5-46bd-a52f-0039ca569c0b\" class=\"colab-df-container\">\n",
              "    <div>\n",
              "<style scoped>\n",
              "    .dataframe tbody tr th:only-of-type {\n",
              "        vertical-align: middle;\n",
              "    }\n",
              "\n",
              "    .dataframe tbody tr th {\n",
              "        vertical-align: top;\n",
              "    }\n",
              "\n",
              "    .dataframe thead th {\n",
              "        text-align: right;\n",
              "    }\n",
              "</style>\n",
              "<table border=\"1\" class=\"dataframe\">\n",
              "  <thead>\n",
              "    <tr style=\"text-align: right;\">\n",
              "      <th></th>\n",
              "      <th>CustomerID</th>\n",
              "      <th>Genre</th>\n",
              "      <th>Age</th>\n",
              "      <th>Annual Income (k$)</th>\n",
              "      <th>Spending Score (1-100)</th>\n",
              "    </tr>\n",
              "  </thead>\n",
              "  <tbody>\n",
              "    <tr>\n",
              "      <th>0</th>\n",
              "      <td>96858303</td>\n",
              "      <td>Female</td>\n",
              "      <td>34</td>\n",
              "      <td>100</td>\n",
              "      <td>83</td>\n",
              "    </tr>\n",
              "    <tr>\n",
              "      <th>1</th>\n",
              "      <td>409140672</td>\n",
              "      <td>Male</td>\n",
              "      <td>40</td>\n",
              "      <td>27</td>\n",
              "      <td>61</td>\n",
              "    </tr>\n",
              "    <tr>\n",
              "      <th>2</th>\n",
              "      <td>913920895</td>\n",
              "      <td>Female</td>\n",
              "      <td>43</td>\n",
              "      <td>120</td>\n",
              "      <td>48</td>\n",
              "    </tr>\n",
              "    <tr>\n",
              "      <th>3</th>\n",
              "      <td>145640776</td>\n",
              "      <td>Male</td>\n",
              "      <td>39</td>\n",
              "      <td>58</td>\n",
              "      <td>54</td>\n",
              "    </tr>\n",
              "    <tr>\n",
              "      <th>4</th>\n",
              "      <td>277842049</td>\n",
              "      <td>Female</td>\n",
              "      <td>43</td>\n",
              "      <td>100</td>\n",
              "      <td>10</td>\n",
              "    </tr>\n",
              "    <tr>\n",
              "      <th>...</th>\n",
              "      <td>...</td>\n",
              "      <td>...</td>\n",
              "      <td>...</td>\n",
              "      <td>...</td>\n",
              "      <td>...</td>\n",
              "    </tr>\n",
              "    <tr>\n",
              "      <th>2995</th>\n",
              "      <td>421846701</td>\n",
              "      <td>Male</td>\n",
              "      <td>35</td>\n",
              "      <td>63</td>\n",
              "      <td>92</td>\n",
              "    </tr>\n",
              "    <tr>\n",
              "      <th>2996</th>\n",
              "      <td>864831677</td>\n",
              "      <td>Female</td>\n",
              "      <td>56</td>\n",
              "      <td>48</td>\n",
              "      <td>17</td>\n",
              "    </tr>\n",
              "    <tr>\n",
              "      <th>2997</th>\n",
              "      <td>488060692</td>\n",
              "      <td>Female</td>\n",
              "      <td>18</td>\n",
              "      <td>66</td>\n",
              "      <td>40</td>\n",
              "    </tr>\n",
              "    <tr>\n",
              "      <th>2998</th>\n",
              "      <td>660383726</td>\n",
              "      <td>Female</td>\n",
              "      <td>36</td>\n",
              "      <td>34</td>\n",
              "      <td>74</td>\n",
              "    </tr>\n",
              "    <tr>\n",
              "      <th>2999</th>\n",
              "      <td>270698392</td>\n",
              "      <td>Female</td>\n",
              "      <td>41</td>\n",
              "      <td>108</td>\n",
              "      <td>12</td>\n",
              "    </tr>\n",
              "  </tbody>\n",
              "</table>\n",
              "<p>3000 rows × 5 columns</p>\n",
              "</div>\n",
              "    <div class=\"colab-df-buttons\">\n",
              "\n",
              "  <div class=\"colab-df-container\">\n",
              "    <button class=\"colab-df-convert\" onclick=\"convertToInteractive('df-1fec88f0-1be5-46bd-a52f-0039ca569c0b')\"\n",
              "            title=\"Convert this dataframe to an interactive table.\"\n",
              "            style=\"display:none;\">\n",
              "\n",
              "  <svg xmlns=\"http://www.w3.org/2000/svg\" height=\"24px\" viewBox=\"0 -960 960 960\">\n",
              "    <path d=\"M120-120v-720h720v720H120Zm60-500h600v-160H180v160Zm220 220h160v-160H400v160Zm0 220h160v-160H400v160ZM180-400h160v-160H180v160Zm440 0h160v-160H620v160ZM180-180h160v-160H180v160Zm440 0h160v-160H620v160Z\"/>\n",
              "  </svg>\n",
              "    </button>\n",
              "\n",
              "  <style>\n",
              "    .colab-df-container {\n",
              "      display:flex;\n",
              "      gap: 12px;\n",
              "    }\n",
              "\n",
              "    .colab-df-convert {\n",
              "      background-color: #E8F0FE;\n",
              "      border: none;\n",
              "      border-radius: 50%;\n",
              "      cursor: pointer;\n",
              "      display: none;\n",
              "      fill: #1967D2;\n",
              "      height: 32px;\n",
              "      padding: 0 0 0 0;\n",
              "      width: 32px;\n",
              "    }\n",
              "\n",
              "    .colab-df-convert:hover {\n",
              "      background-color: #E2EBFA;\n",
              "      box-shadow: 0px 1px 2px rgba(60, 64, 67, 0.3), 0px 1px 3px 1px rgba(60, 64, 67, 0.15);\n",
              "      fill: #174EA6;\n",
              "    }\n",
              "\n",
              "    .colab-df-buttons div {\n",
              "      margin-bottom: 4px;\n",
              "    }\n",
              "\n",
              "    [theme=dark] .colab-df-convert {\n",
              "      background-color: #3B4455;\n",
              "      fill: #D2E3FC;\n",
              "    }\n",
              "\n",
              "    [theme=dark] .colab-df-convert:hover {\n",
              "      background-color: #434B5C;\n",
              "      box-shadow: 0px 1px 3px 1px rgba(0, 0, 0, 0.15);\n",
              "      filter: drop-shadow(0px 1px 2px rgba(0, 0, 0, 0.3));\n",
              "      fill: #FFFFFF;\n",
              "    }\n",
              "  </style>\n",
              "\n",
              "    <script>\n",
              "      const buttonEl =\n",
              "        document.querySelector('#df-1fec88f0-1be5-46bd-a52f-0039ca569c0b button.colab-df-convert');\n",
              "      buttonEl.style.display =\n",
              "        google.colab.kernel.accessAllowed ? 'block' : 'none';\n",
              "\n",
              "      async function convertToInteractive(key) {\n",
              "        const element = document.querySelector('#df-1fec88f0-1be5-46bd-a52f-0039ca569c0b');\n",
              "        const dataTable =\n",
              "          await google.colab.kernel.invokeFunction('convertToInteractive',\n",
              "                                                    [key], {});\n",
              "        if (!dataTable) return;\n",
              "\n",
              "        const docLinkHtml = 'Like what you see? Visit the ' +\n",
              "          '<a target=\"_blank\" href=https://colab.research.google.com/notebooks/data_table.ipynb>data table notebook</a>'\n",
              "          + ' to learn more about interactive tables.';\n",
              "        element.innerHTML = '';\n",
              "        dataTable['output_type'] = 'display_data';\n",
              "        await google.colab.output.renderOutput(dataTable, element);\n",
              "        const docLink = document.createElement('div');\n",
              "        docLink.innerHTML = docLinkHtml;\n",
              "        element.appendChild(docLink);\n",
              "      }\n",
              "    </script>\n",
              "  </div>\n",
              "\n",
              "\n",
              "<div id=\"df-71d352c5-c01e-41af-bc79-aca0f3b074b2\">\n",
              "  <button class=\"colab-df-quickchart\" onclick=\"quickchart('df-71d352c5-c01e-41af-bc79-aca0f3b074b2')\"\n",
              "            title=\"Suggest charts\"\n",
              "            style=\"display:none;\">\n",
              "\n",
              "<svg xmlns=\"http://www.w3.org/2000/svg\" height=\"24px\"viewBox=\"0 0 24 24\"\n",
              "     width=\"24px\">\n",
              "    <g>\n",
              "        <path d=\"M19 3H5c-1.1 0-2 .9-2 2v14c0 1.1.9 2 2 2h14c1.1 0 2-.9 2-2V5c0-1.1-.9-2-2-2zM9 17H7v-7h2v7zm4 0h-2V7h2v10zm4 0h-2v-4h2v4z\"/>\n",
              "    </g>\n",
              "</svg>\n",
              "  </button>\n",
              "\n",
              "<style>\n",
              "  .colab-df-quickchart {\n",
              "      --bg-color: #E8F0FE;\n",
              "      --fill-color: #1967D2;\n",
              "      --hover-bg-color: #E2EBFA;\n",
              "      --hover-fill-color: #174EA6;\n",
              "      --disabled-fill-color: #AAA;\n",
              "      --disabled-bg-color: #DDD;\n",
              "  }\n",
              "\n",
              "  [theme=dark] .colab-df-quickchart {\n",
              "      --bg-color: #3B4455;\n",
              "      --fill-color: #D2E3FC;\n",
              "      --hover-bg-color: #434B5C;\n",
              "      --hover-fill-color: #FFFFFF;\n",
              "      --disabled-bg-color: #3B4455;\n",
              "      --disabled-fill-color: #666;\n",
              "  }\n",
              "\n",
              "  .colab-df-quickchart {\n",
              "    background-color: var(--bg-color);\n",
              "    border: none;\n",
              "    border-radius: 50%;\n",
              "    cursor: pointer;\n",
              "    display: none;\n",
              "    fill: var(--fill-color);\n",
              "    height: 32px;\n",
              "    padding: 0;\n",
              "    width: 32px;\n",
              "  }\n",
              "\n",
              "  .colab-df-quickchart:hover {\n",
              "    background-color: var(--hover-bg-color);\n",
              "    box-shadow: 0 1px 2px rgba(60, 64, 67, 0.3), 0 1px 3px 1px rgba(60, 64, 67, 0.15);\n",
              "    fill: var(--button-hover-fill-color);\n",
              "  }\n",
              "\n",
              "  .colab-df-quickchart-complete:disabled,\n",
              "  .colab-df-quickchart-complete:disabled:hover {\n",
              "    background-color: var(--disabled-bg-color);\n",
              "    fill: var(--disabled-fill-color);\n",
              "    box-shadow: none;\n",
              "  }\n",
              "\n",
              "  .colab-df-spinner {\n",
              "    border: 2px solid var(--fill-color);\n",
              "    border-color: transparent;\n",
              "    border-bottom-color: var(--fill-color);\n",
              "    animation:\n",
              "      spin 1s steps(1) infinite;\n",
              "  }\n",
              "\n",
              "  @keyframes spin {\n",
              "    0% {\n",
              "      border-color: transparent;\n",
              "      border-bottom-color: var(--fill-color);\n",
              "      border-left-color: var(--fill-color);\n",
              "    }\n",
              "    20% {\n",
              "      border-color: transparent;\n",
              "      border-left-color: var(--fill-color);\n",
              "      border-top-color: var(--fill-color);\n",
              "    }\n",
              "    30% {\n",
              "      border-color: transparent;\n",
              "      border-left-color: var(--fill-color);\n",
              "      border-top-color: var(--fill-color);\n",
              "      border-right-color: var(--fill-color);\n",
              "    }\n",
              "    40% {\n",
              "      border-color: transparent;\n",
              "      border-right-color: var(--fill-color);\n",
              "      border-top-color: var(--fill-color);\n",
              "    }\n",
              "    60% {\n",
              "      border-color: transparent;\n",
              "      border-right-color: var(--fill-color);\n",
              "    }\n",
              "    80% {\n",
              "      border-color: transparent;\n",
              "      border-right-color: var(--fill-color);\n",
              "      border-bottom-color: var(--fill-color);\n",
              "    }\n",
              "    90% {\n",
              "      border-color: transparent;\n",
              "      border-bottom-color: var(--fill-color);\n",
              "    }\n",
              "  }\n",
              "</style>\n",
              "\n",
              "  <script>\n",
              "    async function quickchart(key) {\n",
              "      const quickchartButtonEl =\n",
              "        document.querySelector('#' + key + ' button');\n",
              "      quickchartButtonEl.disabled = true;  // To prevent multiple clicks.\n",
              "      quickchartButtonEl.classList.add('colab-df-spinner');\n",
              "      try {\n",
              "        const charts = await google.colab.kernel.invokeFunction(\n",
              "            'suggestCharts', [key], {});\n",
              "      } catch (error) {\n",
              "        console.error('Error during call to suggestCharts:', error);\n",
              "      }\n",
              "      quickchartButtonEl.classList.remove('colab-df-spinner');\n",
              "      quickchartButtonEl.classList.add('colab-df-quickchart-complete');\n",
              "    }\n",
              "    (() => {\n",
              "      let quickchartButtonEl =\n",
              "        document.querySelector('#df-71d352c5-c01e-41af-bc79-aca0f3b074b2 button');\n",
              "      quickchartButtonEl.style.display =\n",
              "        google.colab.kernel.accessAllowed ? 'block' : 'none';\n",
              "    })();\n",
              "  </script>\n",
              "</div>\n",
              "\n",
              "    </div>\n",
              "  </div>\n"
            ],
            "application/vnd.google.colaboratory.intrinsic+json": {
              "type": "dataframe",
              "variable_name": "synthetic_data"
            }
          },
          "metadata": {},
          "execution_count": 41
        }
      ]
    },
    {
      "cell_type": "code",
      "source": [],
      "metadata": {
        "id": "PTtldRANVqVF"
      },
      "execution_count": null,
      "outputs": []
    },
    {
      "cell_type": "code",
      "source": [],
      "metadata": {
        "id": "qg4TYDsJVqXe"
      },
      "execution_count": null,
      "outputs": []
    },
    {
      "cell_type": "code",
      "source": [],
      "metadata": {
        "id": "cYFa7iCeVqaT"
      },
      "execution_count": null,
      "outputs": []
    },
    {
      "cell_type": "code",
      "source": [],
      "metadata": {
        "id": "M5qmTqrKVqd1"
      },
      "execution_count": null,
      "outputs": []
    },
    {
      "cell_type": "code",
      "source": [],
      "metadata": {
        "id": "UjLLdGoE1iUG"
      },
      "execution_count": null,
      "outputs": []
    }
  ]
}